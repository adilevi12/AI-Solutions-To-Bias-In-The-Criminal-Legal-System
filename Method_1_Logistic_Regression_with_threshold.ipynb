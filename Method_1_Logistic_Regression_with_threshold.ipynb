{
  "nbformat": 4,
  "nbformat_minor": 0,
  "metadata": {
    "colab": {
      "provenance": [],
      "toc_visible": true
    },
    "kernelspec": {
      "name": "python3",
      "display_name": "Python 3"
    },
    "language_info": {
      "name": "python"
    }
  },
  "cells": [
    {
      "cell_type": "markdown",
      "source": [
        "# **Method 1-Logistic Regression with threshold:**"
      ],
      "metadata": {
        "id": "IakoTqvMOtmd"
      }
    },
    {
      "cell_type": "code",
      "execution_count": null,
      "metadata": {
        "id": "MKKKE_HaOYrW"
      },
      "outputs": [],
      "source": [
        "import pandas as pd\n",
        "import numpy as np\n",
        "from IPython.display import display\n",
        "from sklearn.model_selection import train_test_split\n",
        "import plotly.figure_factory as ff\n",
        "from sklearn.linear_model import LogisticRegression\n",
        "from sklearn.metrics import accuracy_score\n",
        "pd.options.mode.chained_assignment = None  # default='warn'\n",
        "dataURL = 'https://raw.githubusercontent.com/propublica/compas-analysis/master/compas-scores-two-years.csv'\n",
        "data = pd.read_csv(dataURL)"
      ]
    },
    {
      "cell_type": "markdown",
      "source": [
        "## **Data description:**\n",
        "ProPublica obtained pretrial defendant's COMPAS scores from the Broward County Sheriff’s Office in Florida in 2013 – 2014.\n",
        "Each pretrial defendant received at least three COMPAS scores, each ranged from 1 to 10, with ten being the highest risk: \n",
        "1. **decile_score**- Risk of recidivism\n",
        "2. **v_decile_score**- Risk of violence\n",
        "3. Risk of Failure to Appear\n",
        "<br>\n",
        "\n",
        "We are provided as well 2 category based evaluation labeled as **“High”** (8 – 10), **“Medium”** (5 – 7) and **“Low”** (1 – 4):\n",
        "1. **score_text**-  Risk of recidivism category\n",
        "2. **v_score_text**- Risk of violence category\n",
        "\n",
        "\n",
        "**days_b_screening_arrest**- number of days before COMPAS assessment being conducted \n",
        "\n",
        "**c_charge_degree**- the degree of the charge\n",
        "\n",
        "**priors_count**- number of prior offences\n",
        "\n",
        "**is_recid**- yes/no prediction of the model of whether the defendant will reoffend\n",
        "\n",
        "**two_year_recid**- actual result over a two-year period \n",
        "\n",
        "**is_violent_recid**- yes/no prediction of the model of whether the defendant will have a violent offence\n",
        "\n",
        "**juv_misd_count**- number of juvenile misdemeanor crimes\n",
        "\n",
        "**juv_fel_count**- number of juvenile felony crimes\n",
        "\n",
        "**juv_other_count**- number of juvenile crimes with dgree diffrent than misdemeanor or felony\n",
        "\n"
      ],
      "metadata": {
        "id": "w4JI7puXPFvP"
      }
    },
    {
      "cell_type": "markdown",
      "source": [
        "## **Data preprocessing:**\n",
        "We filtered the underlying data from Broward county to include only those rows representing people who had either recidivated in two years, or had at least two years outside of a correctional facility."
      ],
      "metadata": {
        "id": "wCeAxMf1spxj"
      }
    },
    {
      "cell_type": "code",
      "source": [
        "df = (data\n",
        "      .loc[(data['days_b_screening_arrest'] <= 30) & (data['days_b_screening_arrest'] >= -30), :]\n",
        "      .loc[data['is_recid'] != -1, :]\n",
        "      .loc[data['c_charge_degree'] != 'O', :])\n",
        "df.reset_index(inplace = True)\n",
        "df=df[['age', 'c_charge_degree', 'race', 'age_cat', 'score_text', 'sex', 'priors_count', 'days_b_screening_arrest', 'decile_score', 'is_recid', 'two_year_recid', 'c_jail_in', 'c_jail_out','is_violent_recid','v_decile_score', 'v_score_text','juv_misd_count', 'juv_other_count','juv_fel_count']]\n",
        "\n",
        "cat = ['score_text','age_cat','sex','race','c_charge_degree','v_score_text']\n",
        "\n",
        "df.loc[:,cat] = df.loc[:,cat].astype('category')\n",
        "df = pd.get_dummies(data = df, columns=cat)\n",
        "new_column_names = [col.lstrip().rstrip().lower().replace(\" \", \"_\").replace(\"-\", \"_\") for col in df.columns]\n",
        "df.columns = new_column_names\n",
        "df['v_score_text_high'] = df['v_score_text_medium'] + df['v_score_text_high']\n",
        "df['score_text_high'] = df['score_text_medium'] + df['score_text_high']\n",
        "sensetive_feat='race'\n",
        "df.head()\n"
      ],
      "metadata": {
        "colab": {
          "base_uri": "https://localhost:8080/",
          "height": 473
        },
        "id": "tyDT-6iiPGV0",
        "outputId": "f16e1644-9df9-46f7-cf9b-0c15c82fe8bb"
      },
      "execution_count": null,
      "outputs": [
        {
          "output_type": "execute_result",
          "data": {
            "text/plain": [
              "   age  priors_count  days_b_screening_arrest  decile_score  is_recid  \\\n",
              "0   69             0                     -1.0             1         0   \n",
              "1   34             0                     -1.0             3         1   \n",
              "2   24             4                     -1.0             4         1   \n",
              "3   44             0                      0.0             1         0   \n",
              "4   41            14                     -1.0             6         1   \n",
              "\n",
              "   two_year_recid            c_jail_in           c_jail_out  is_violent_recid  \\\n",
              "0               0  2013-08-13 06:03:42  2013-08-14 05:41:20                 0   \n",
              "1               1  2013-01-26 03:45:27  2013-02-05 05:36:53                 1   \n",
              "2               1  2013-04-13 04:58:34  2013-04-14 07:02:04                 0   \n",
              "3               0  2013-11-30 04:50:18  2013-12-01 12:28:56                 0   \n",
              "4               1  2014-02-18 05:08:24  2014-02-24 12:18:30                 0   \n",
              "\n",
              "   v_decile_score  ...  race_asian  race_caucasian  race_hispanic  \\\n",
              "0               1  ...           0               0              0   \n",
              "1               1  ...           0               0              0   \n",
              "2               3  ...           0               0              0   \n",
              "3               1  ...           0               0              0   \n",
              "4               2  ...           0               1              0   \n",
              "\n",
              "   race_native_american  race_other  c_charge_degree_f  c_charge_degree_m  \\\n",
              "0                     0           1                  1                  0   \n",
              "1                     0           0                  1                  0   \n",
              "2                     0           0                  1                  0   \n",
              "3                     0           1                  0                  1   \n",
              "4                     0           0                  1                  0   \n",
              "\n",
              "   v_score_text_high  v_score_text_low  v_score_text_medium  \n",
              "0                  0                 1                    0  \n",
              "1                  0                 1                    0  \n",
              "2                  0                 1                    0  \n",
              "3                  0                 1                    0  \n",
              "4                  0                 1                    0  \n",
              "\n",
              "[5 rows x 32 columns]"
            ],
            "text/html": [
              "\n",
              "  <div id=\"df-cea77dbe-6779-4348-b04c-e0b6a72324f5\">\n",
              "    <div class=\"colab-df-container\">\n",
              "      <div>\n",
              "<style scoped>\n",
              "    .dataframe tbody tr th:only-of-type {\n",
              "        vertical-align: middle;\n",
              "    }\n",
              "\n",
              "    .dataframe tbody tr th {\n",
              "        vertical-align: top;\n",
              "    }\n",
              "\n",
              "    .dataframe thead th {\n",
              "        text-align: right;\n",
              "    }\n",
              "</style>\n",
              "<table border=\"1\" class=\"dataframe\">\n",
              "  <thead>\n",
              "    <tr style=\"text-align: right;\">\n",
              "      <th></th>\n",
              "      <th>age</th>\n",
              "      <th>priors_count</th>\n",
              "      <th>days_b_screening_arrest</th>\n",
              "      <th>decile_score</th>\n",
              "      <th>is_recid</th>\n",
              "      <th>two_year_recid</th>\n",
              "      <th>c_jail_in</th>\n",
              "      <th>c_jail_out</th>\n",
              "      <th>is_violent_recid</th>\n",
              "      <th>v_decile_score</th>\n",
              "      <th>...</th>\n",
              "      <th>race_asian</th>\n",
              "      <th>race_caucasian</th>\n",
              "      <th>race_hispanic</th>\n",
              "      <th>race_native_american</th>\n",
              "      <th>race_other</th>\n",
              "      <th>c_charge_degree_f</th>\n",
              "      <th>c_charge_degree_m</th>\n",
              "      <th>v_score_text_high</th>\n",
              "      <th>v_score_text_low</th>\n",
              "      <th>v_score_text_medium</th>\n",
              "    </tr>\n",
              "  </thead>\n",
              "  <tbody>\n",
              "    <tr>\n",
              "      <th>0</th>\n",
              "      <td>69</td>\n",
              "      <td>0</td>\n",
              "      <td>-1.0</td>\n",
              "      <td>1</td>\n",
              "      <td>0</td>\n",
              "      <td>0</td>\n",
              "      <td>2013-08-13 06:03:42</td>\n",
              "      <td>2013-08-14 05:41:20</td>\n",
              "      <td>0</td>\n",
              "      <td>1</td>\n",
              "      <td>...</td>\n",
              "      <td>0</td>\n",
              "      <td>0</td>\n",
              "      <td>0</td>\n",
              "      <td>0</td>\n",
              "      <td>1</td>\n",
              "      <td>1</td>\n",
              "      <td>0</td>\n",
              "      <td>0</td>\n",
              "      <td>1</td>\n",
              "      <td>0</td>\n",
              "    </tr>\n",
              "    <tr>\n",
              "      <th>1</th>\n",
              "      <td>34</td>\n",
              "      <td>0</td>\n",
              "      <td>-1.0</td>\n",
              "      <td>3</td>\n",
              "      <td>1</td>\n",
              "      <td>1</td>\n",
              "      <td>2013-01-26 03:45:27</td>\n",
              "      <td>2013-02-05 05:36:53</td>\n",
              "      <td>1</td>\n",
              "      <td>1</td>\n",
              "      <td>...</td>\n",
              "      <td>0</td>\n",
              "      <td>0</td>\n",
              "      <td>0</td>\n",
              "      <td>0</td>\n",
              "      <td>0</td>\n",
              "      <td>1</td>\n",
              "      <td>0</td>\n",
              "      <td>0</td>\n",
              "      <td>1</td>\n",
              "      <td>0</td>\n",
              "    </tr>\n",
              "    <tr>\n",
              "      <th>2</th>\n",
              "      <td>24</td>\n",
              "      <td>4</td>\n",
              "      <td>-1.0</td>\n",
              "      <td>4</td>\n",
              "      <td>1</td>\n",
              "      <td>1</td>\n",
              "      <td>2013-04-13 04:58:34</td>\n",
              "      <td>2013-04-14 07:02:04</td>\n",
              "      <td>0</td>\n",
              "      <td>3</td>\n",
              "      <td>...</td>\n",
              "      <td>0</td>\n",
              "      <td>0</td>\n",
              "      <td>0</td>\n",
              "      <td>0</td>\n",
              "      <td>0</td>\n",
              "      <td>1</td>\n",
              "      <td>0</td>\n",
              "      <td>0</td>\n",
              "      <td>1</td>\n",
              "      <td>0</td>\n",
              "    </tr>\n",
              "    <tr>\n",
              "      <th>3</th>\n",
              "      <td>44</td>\n",
              "      <td>0</td>\n",
              "      <td>0.0</td>\n",
              "      <td>1</td>\n",
              "      <td>0</td>\n",
              "      <td>0</td>\n",
              "      <td>2013-11-30 04:50:18</td>\n",
              "      <td>2013-12-01 12:28:56</td>\n",
              "      <td>0</td>\n",
              "      <td>1</td>\n",
              "      <td>...</td>\n",
              "      <td>0</td>\n",
              "      <td>0</td>\n",
              "      <td>0</td>\n",
              "      <td>0</td>\n",
              "      <td>1</td>\n",
              "      <td>0</td>\n",
              "      <td>1</td>\n",
              "      <td>0</td>\n",
              "      <td>1</td>\n",
              "      <td>0</td>\n",
              "    </tr>\n",
              "    <tr>\n",
              "      <th>4</th>\n",
              "      <td>41</td>\n",
              "      <td>14</td>\n",
              "      <td>-1.0</td>\n",
              "      <td>6</td>\n",
              "      <td>1</td>\n",
              "      <td>1</td>\n",
              "      <td>2014-02-18 05:08:24</td>\n",
              "      <td>2014-02-24 12:18:30</td>\n",
              "      <td>0</td>\n",
              "      <td>2</td>\n",
              "      <td>...</td>\n",
              "      <td>0</td>\n",
              "      <td>1</td>\n",
              "      <td>0</td>\n",
              "      <td>0</td>\n",
              "      <td>0</td>\n",
              "      <td>1</td>\n",
              "      <td>0</td>\n",
              "      <td>0</td>\n",
              "      <td>1</td>\n",
              "      <td>0</td>\n",
              "    </tr>\n",
              "  </tbody>\n",
              "</table>\n",
              "<p>5 rows × 32 columns</p>\n",
              "</div>\n",
              "      <button class=\"colab-df-convert\" onclick=\"convertToInteractive('df-cea77dbe-6779-4348-b04c-e0b6a72324f5')\"\n",
              "              title=\"Convert this dataframe to an interactive table.\"\n",
              "              style=\"display:none;\">\n",
              "        \n",
              "  <svg xmlns=\"http://www.w3.org/2000/svg\" height=\"24px\"viewBox=\"0 0 24 24\"\n",
              "       width=\"24px\">\n",
              "    <path d=\"M0 0h24v24H0V0z\" fill=\"none\"/>\n",
              "    <path d=\"M18.56 5.44l.94 2.06.94-2.06 2.06-.94-2.06-.94-.94-2.06-.94 2.06-2.06.94zm-11 1L8.5 8.5l.94-2.06 2.06-.94-2.06-.94L8.5 2.5l-.94 2.06-2.06.94zm10 10l.94 2.06.94-2.06 2.06-.94-2.06-.94-.94-2.06-.94 2.06-2.06.94z\"/><path d=\"M17.41 7.96l-1.37-1.37c-.4-.4-.92-.59-1.43-.59-.52 0-1.04.2-1.43.59L10.3 9.45l-7.72 7.72c-.78.78-.78 2.05 0 2.83L4 21.41c.39.39.9.59 1.41.59.51 0 1.02-.2 1.41-.59l7.78-7.78 2.81-2.81c.8-.78.8-2.07 0-2.86zM5.41 20L4 18.59l7.72-7.72 1.47 1.35L5.41 20z\"/>\n",
              "  </svg>\n",
              "      </button>\n",
              "      \n",
              "  <style>\n",
              "    .colab-df-container {\n",
              "      display:flex;\n",
              "      flex-wrap:wrap;\n",
              "      gap: 12px;\n",
              "    }\n",
              "\n",
              "    .colab-df-convert {\n",
              "      background-color: #E8F0FE;\n",
              "      border: none;\n",
              "      border-radius: 50%;\n",
              "      cursor: pointer;\n",
              "      display: none;\n",
              "      fill: #1967D2;\n",
              "      height: 32px;\n",
              "      padding: 0 0 0 0;\n",
              "      width: 32px;\n",
              "    }\n",
              "\n",
              "    .colab-df-convert:hover {\n",
              "      background-color: #E2EBFA;\n",
              "      box-shadow: 0px 1px 2px rgba(60, 64, 67, 0.3), 0px 1px 3px 1px rgba(60, 64, 67, 0.15);\n",
              "      fill: #174EA6;\n",
              "    }\n",
              "\n",
              "    [theme=dark] .colab-df-convert {\n",
              "      background-color: #3B4455;\n",
              "      fill: #D2E3FC;\n",
              "    }\n",
              "\n",
              "    [theme=dark] .colab-df-convert:hover {\n",
              "      background-color: #434B5C;\n",
              "      box-shadow: 0px 1px 3px 1px rgba(0, 0, 0, 0.15);\n",
              "      filter: drop-shadow(0px 1px 2px rgba(0, 0, 0, 0.3));\n",
              "      fill: #FFFFFF;\n",
              "    }\n",
              "  </style>\n",
              "\n",
              "      <script>\n",
              "        const buttonEl =\n",
              "          document.querySelector('#df-cea77dbe-6779-4348-b04c-e0b6a72324f5 button.colab-df-convert');\n",
              "        buttonEl.style.display =\n",
              "          google.colab.kernel.accessAllowed ? 'block' : 'none';\n",
              "\n",
              "        async function convertToInteractive(key) {\n",
              "          const element = document.querySelector('#df-cea77dbe-6779-4348-b04c-e0b6a72324f5');\n",
              "          const dataTable =\n",
              "            await google.colab.kernel.invokeFunction('convertToInteractive',\n",
              "                                                     [key], {});\n",
              "          if (!dataTable) return;\n",
              "\n",
              "          const docLinkHtml = 'Like what you see? Visit the ' +\n",
              "            '<a target=\"_blank\" href=https://colab.research.google.com/notebooks/data_table.ipynb>data table notebook</a>'\n",
              "            + ' to learn more about interactive tables.';\n",
              "          element.innerHTML = '';\n",
              "          dataTable['output_type'] = 'display_data';\n",
              "          await google.colab.output.renderOutput(dataTable, element);\n",
              "          const docLink = document.createElement('div');\n",
              "          docLink.innerHTML = docLinkHtml;\n",
              "          element.appendChild(docLink);\n",
              "        }\n",
              "      </script>\n",
              "    </div>\n",
              "  </div>\n",
              "  "
            ]
          },
          "metadata": {},
          "execution_count": 3
        }
      ]
    },
    {
      "cell_type": "markdown",
      "source": [
        "## **Useful Functions:**"
      ],
      "metadata": {
        "id": "7JOziDJpk-YZ"
      }
    },
    {
      "cell_type": "code",
      "source": [
        "# plot the distribution of the predections of African-American and Caucasian defendants:\n",
        "def plot_dist(df,pred):\n",
        "  black=df[df['race_african_american']==1]\n",
        "  white=df[df['race_caucasian']==1]\n",
        "  y_hat_b = black[pred]\n",
        "  y_hat_w = white[pred]\n",
        "  hist_data = [y_hat_b, y_hat_w]\n",
        "  group_labels = ['black', 'white']\n",
        "  colors = ['black', \"rgb(180, 180, 180)\"]\n",
        "\n",
        "  # Create distplot with curve_type set to 'normal'\n",
        "  fig = ff.create_distplot(hist_data, group_labels, colors=colors,bin_size=.1, show_rug=False,curve_type='normal')\n",
        "  fig.update_layout(title_text='Distribution Of The Predections Of African-American & Caucasian Defendants',title_x=0.5,width=700, height=500)\n",
        "  fig.show()\n",
        "\n",
        "# compute the probability:\n",
        "def compute_prob(df,race,predection,recid,threshold):\n",
        "    numerator=len(df[(df[predection]>threshold) & (df[race]==1) & (df[\"two_year_recid\"]==recid)])\n",
        "    denomurator=len(df[(df[race]==1) & (df[\"two_year_recid\"]==recid)])\n",
        "    return numerator/float(denomurator)\n",
        "    \n",
        "#print the probabilities of Equalized Odds pairty:\n",
        "def print_prob(df,th_black=0.5,th_white=0.5,pred='probability'):\n",
        "  black_recid=compute_prob(df,'race_african_american',pred,1,th_black)\n",
        "  print(\"P[recidivism predicted | african_american,recidivism]={}\".format(black_recid))\n",
        "\n",
        "  white_recid=compute_prob(df,'race_caucasian',pred,1,th_white)\n",
        "  print(\"P[recidivism predicted | Caucasian, recidivism]={}\".format(white_recid))\n",
        "\n",
        "  print(\"The diffrence:{}\".format(np.abs(black_recid-white_recid)))\n",
        "\n",
        "  print(\"\\n\")\n",
        "\n",
        "  black_no_recid=compute_prob(df,'race_african_american',pred,0,th_black)\n",
        "  print(\"P[recidivism predicted | african_american,no recidivism]={}\".format(black_no_recid))\n",
        "\n",
        "  white_no_recid=compute_prob(df,'race_caucasian',pred,0,th_white)\n",
        "  print(\"P[recidivism predicted | Caucasian, no recidivism]={}\".format(white_no_recid))\n",
        "\n",
        "  print(\"The diffrence:{}\".format(np.abs(black_no_recid-white_no_recid)))\n",
        "\n",
        "\n",
        "\n"
      ],
      "metadata": {
        "id": "Y1iFZc6jk7zO"
      },
      "execution_count": null,
      "outputs": []
    },
    {
      "cell_type": "markdown",
      "source": [
        "# **Logistic Regression:**\n",
        "Logistic regression models the probabilities for classification problems with two possible outcomes. For example: given the parameters, will the defendant reoffend or not?\n",
        "\n",
        "It’s an extension of the linear regression model for classification problems.\n",
        "The logistic regression model uses the logistic function - sigmoid:\n",
        "<h2>\n",
        "\\begin{align}\n",
        "        σ(w^T x_i )= \\frac{\\mathrm{e}^{w^Tx_i}}{1+\\mathrm{e}^{w^Tx_i}}\n",
        "    \\end{align}\n",
        "</h2>\n",
        "\n",
        "If we feed an output value to the sigmoid function, it will return the probability of the outcome between 0 and 1. This probability is the model's confidence score to the label he predicted\n",
        "\n",
        "If $σ(w^T x_i ) ≥ 0.5 $ then the label will be 1 (will reoffend) otherwise it will be 0 (won't reoffend)."
      ],
      "metadata": {
        "id": "ANdYXpWGssDS"
      }
    },
    {
      "cell_type": "markdown",
      "source": [
        "## **Train The Model:**"
      ],
      "metadata": {
        "id": "vph2y-hh4RTQ"
      }
    },
    {
      "cell_type": "code",
      "source": [
        "features=['sex_female', 'age_cat_greater_than_45', 'age_cat_less_than_25','race_african_american', 'race_asian' ,'race_hispanic' ,'race_native_american' ,'race_caucasian','race_other' ,'priors_count' ,'c_charge_degree_m','juv_misd_count', 'juv_other_count','juv_fel_count']\n",
        "cols=features.copy()\n",
        "cols.append(\"two_year_recid\")\n",
        "X=df[cols]\n",
        "\n",
        "# Split into train and test datasets:\n",
        "train,test=train_test_split(X,test_size=0.2, random_state=42)\n",
        "X_train=train[features]\n",
        "y_train=train[\"two_year_recid\"]\n",
        "X_test=test[features]\n",
        "y_test=test[\"two_year_recid\"]\n",
        "\n",
        "# Train with logistic regression:\n",
        "model=LogisticRegression()\n",
        "model.fit(X_train, y_train)\n",
        "\n",
        "# Add the predctions of the training dataset:\n",
        "train['probability']=model.predict_proba(X_train)[:, 1]\n"
      ],
      "metadata": {
        "id": "l3Mx1Jxe4QRh"
      },
      "execution_count": null,
      "outputs": []
    },
    {
      "cell_type": "markdown",
      "source": [
        "<h3>Lets observe the distribution of the predections of African-American and Caucasian defendants"
      ],
      "metadata": {
        "id": "wACPkQ3ClaUo"
      }
    },
    {
      "cell_type": "code",
      "source": [
        "plot_dist(train,pred='probability')"
      ],
      "metadata": {
        "colab": {
          "base_uri": "https://localhost:8080/",
          "height": 517
        },
        "id": "Yn7ObfSDlRSt",
        "outputId": "0ba8c748-5300-4fd2-b04c-37fbfb8b7814"
      },
      "execution_count": null,
      "outputs": [
        {
          "output_type": "display_data",
          "data": {
            "text/html": [
              "<html>\n",
              "<head><meta charset=\"utf-8\" /></head>\n",
              "<body>\n",
              "    <div>            <script src=\"https://cdnjs.cloudflare.com/ajax/libs/mathjax/2.7.5/MathJax.js?config=TeX-AMS-MML_SVG\"></script><script type=\"text/javascript\">if (window.MathJax) {MathJax.Hub.Config({SVG: {font: \"STIX-Web\"}});}</script>                <script type=\"text/javascript\">window.PlotlyConfig = {MathJaxConfig: 'local'};</script>\n",
              "        <script src=\"https://cdn.plot.ly/plotly-2.8.3.min.js\"></script>                <div id=\"1d04d743-0bec-4cf4-80b5-e9b7ce4c0883\" class=\"plotly-graph-div\" style=\"height:500px; width:700px;\"></div>            <script type=\"text/javascript\">                                    window.PLOTLYENV=window.PLOTLYENV || {};                                    if (document.getElementById(\"1d04d743-0bec-4cf4-80b5-e9b7ce4c0883\")) {                    Plotly.newPlot(                        \"1d04d743-0bec-4cf4-80b5-e9b7ce4c0883\",                        [{\"autobinx\":false,\"histnorm\":\"probability density\",\"legendgroup\":\"black\",\"marker\":{\"color\":\"black\"},\"name\":\"black\",\"opacity\":0.7,\"x\":[0.9211291424862253,0.4745945357109502,0.6818539415827617,0.6358668572132666,0.3143408204899028,0.6529470840321128,0.5004257000569705,0.4164426660149462,0.35197833291743064,0.5843847207388347,0.9576543196941064,0.7685291427057662,0.5957821860201733,0.35197833291743064,0.5957821860201733,0.5557181817505685,0.3759106029625544,0.5427084642106971,0.5287085547287195,0.26180831571416435,0.70010993277159,0.45813684637998325,0.6783135498290027,0.9007719535119396,0.5427084642106971,0.48635646426271995,0.35197833291743064,0.47440611646746844,0.20170247996556362,0.31785860690320744,0.5543773091352999,0.45813684637998325,0.7463794089476189,0.5871710247532903,0.5427084642106971,0.6248880190321261,0.3759106029625544,0.8927066864084404,0.3759106029625544,0.6003528707128026,0.4048561540339701,0.48635646426271995,0.35197833291743064,0.24922928237079778,0.621698279565977,0.663715534886221,0.41776268078678497,0.4164426660149462,0.6248880190321261,0.9845301567996937,0.5957821860201733,0.6783135498290027,0.7347763886125922,0.9128724208846061,0.5210154792630256,0.29030228748044307,0.6329509776007564,0.5543773091352999,0.26946697078262455,0.7405652335113204,0.3759106029625544,0.5004257000569705,0.35197833291743064,0.35197833291743064,0.5843847207388347,0.8680493754791361,0.663715534886221,0.35197833291743064,0.3647469354291417,0.29030228748044307,0.45813684637998325,0.5004257000569705,0.3143408204899028,0.43659684442394686,0.663715534886221,0.3143408204899028,0.4313292855687962,0.3915488947698728,0.3759106029625544,0.8927066864084404,0.6402579682950915,0.6615873156756036,0.5957821860201733,0.39543241117524097,0.5957821860201733,0.35197833291743064,0.5004257000569705,0.48845840190677786,0.7347763886125922,0.45794926601421826,0.6662737194131843,0.5843847207388347,0.45813684637998325,0.5543773091352999,0.5543773091352999,0.3915488947698728,0.24922928237079778,0.9007719535119396,0.9470510542816423,0.3647469354291417,0.6497342621623281,0.8911380873684669,0.5287085547287195,0.35197833291743064,0.21079287805534513,0.3143408204899028,0.4048561540339701,0.8511852017040534,0.6102404333014744,0.5543773091352999,0.26180831571416435,0.41923594570253514,0.8588811250353267,0.5957821860201733,0.9326003416517521,0.3759106029625544,0.3143408204899028,0.20170247996556362,0.5957821860201733,0.39136888653561114,0.5927464536037463,0.45813684637998325,0.43259833248462026,0.663715534886221,0.24922928237079778,0.30411462617627616,0.7102433717229714,0.9944580542098257,0.21079287805534513,0.39136888653561114,0.5543773091352999,0.3759106029625544,0.7463703716179212,0.5004257000569705,0.45813684637998325,0.6358668572132666,0.7507022394421802,0.8536252870112419,0.3759106029625544,0.9237595770324422,0.9510344600273829,0.4164426660149462,0.35197833291743064,0.5153324096880637,0.18396659146168357,0.35197833291743064,0.3143408204899028,0.39136888653561114,0.3759106029625544,0.9764389837432857,0.962122275100849,0.909473655400246,0.45813684637998325,0.663715534886221,0.663715534886221,0.5002367895525117,0.45813684637998325,0.5427084642106971,0.6248880190321261,0.35569881435023265,0.7575543457641959,0.5843847207388347,0.6275758349865408,0.5706513210590537,0.21079287805534513,0.3915488947698728,0.18396659146168357,0.43259833248462026,0.4113475443028923,0.43659684442394686,0.7141407847979061,0.3759106029625544,0.8416996680492278,0.48635646426271995,0.5843847207388347,0.3802037379091381,0.24922928237079778,0.24922928237079778,0.5957821860201733,0.6248880190321261,0.5427084642106971,0.23038487637750274,0.5004257000569705,0.3759106029625544,0.7765992780602341,0.45813684637998325,0.5004257000569705,0.3915488947698728,0.6439973730487573,0.3915488947698728,0.3759106029625544,0.93787548322451,0.4626728668424922,0.8451668992855037,0.24922928237079778,0.8451668992855037,0.24922928237079778,0.8060000262926955,0.35197833291743064,0.6559693407047016,0.6003528707128026,0.4594849601330388,0.3759106029625544,0.7851719429821403,0.2822802782129798,0.6872114435842921,0.38563044335282015,0.6741505469542038,0.5002367895525117,0.5427084642106971,0.8660800039072175,0.45794926601421826,0.5810814578870434,0.3759106029625544,0.663715534886221,0.5957821860201733,0.39543241117524097,0.6590115926291145,0.3143408204899028,0.93787548322451,0.29030228748044307,0.5287085547287195,0.3143408204899028,0.45813684637998325,0.7748082017503882,0.5543773091352999,0.45794926601421826,0.45813684637998325,0.26946697078262455,0.563077102929762,0.4609888655173193,0.4745945357109502,0.7875486705641241,0.24037870201280362,0.8216604624230557,0.4164426660149462,0.7860863232788692,0.7873524064014922,0.48845840190677786,0.29030228748044307,0.4745945357109502,0.6497342621623281,0.700450616976183,0.48635646426271995,0.9237437128573456,0.5810814578870434,0.45813684637998325,0.6975924682552501,0.527419640615005,0.6042506841226614,0.43259833248462026,0.39543241117524097,0.5427084642106971,0.42485783779133474,0.6147533457350728,0.5843847207388347,0.4164426660149462,0.5543773091352999,0.45794926601421826,0.8387976324243253,0.29030228748044307,0.8216604624230557,0.3759106029625544,0.43259833248462026,0.24922928237079778,0.5957821860201733,0.20170247996556362,0.48635646426271995,0.23741994961908533,0.48635646426271995,0.5843847207388347,0.23038487637750274,0.824455832467828,0.35197833291743064,0.700450616976183,0.20170247996556362,0.3264318421542522,0.871565218108873,0.5287085547287195,0.663715534886221,0.29030228748044307,0.795449039351403,0.3759106029625544,0.23741994961908533,0.5308043770872879,0.48635646426271995,0.35197833291743064,0.2822802782129798,0.39136888653561114,0.9784200680666971,0.9158200398511807,0.8370553397169387,0.5543773091352999,0.26946697078262455,0.9549365412186107,0.9674403842357387,0.45813684637998325,0.3143408204899028,0.7263103097474309,0.5543773091352999,0.5957821860201733,0.3143408204899028,0.2822802782129798,0.5543773091352999,0.9084566018390557,0.26946697078262455,0.6497342621623281,0.5427084642106971,0.5843847207388347,0.7174511180052746,0.5004257000569705,0.45813684637998325,0.6248880190321261,0.6872114435842921,0.7664800733161741,0.35197833291743064,0.5427084642106971,0.5427084642106971,0.3143408204899028,0.3759106029625544,0.23038487637750274,0.6302557873493267,0.6385215124238496,0.3264318421542522,0.6248880190321261,0.3759106029625544,0.6818539415827617,0.6398840215317985,0.6400839044870359,0.44109320358652837,0.5843847207388347,0.5706513210590537,0.5543773091352999,0.7347763886125922,0.7126364204322431,0.6102404333014744,0.8450870342889514,0.6105538897363744,0.885721719251397,0.5843847207388347,0.5543773091352999,0.4164426660149462,0.35197833291743064,0.724810693750398,0.3382592346012165,0.9832235984465852,0.3143408204899028,0.6975281033268215,0.5957821860201733,0.8123896846741153,0.3647469354291417,0.43119133314849506,0.700450616976183,0.6026016051309853,0.5002367895525117,0.5031075536088309,0.4164426660149462,0.5957821860201733,0.23741994961908533,0.7626996570849104,0.663715534886221,0.35569881435023265,0.6357962135642902,0.5576556166281686,0.6500341716804694,0.3264318421542522,0.4164426660149462,0.35197833291743064,0.3759106029625544,0.7323191243473489,0.3143408204899028,0.26946697078262455,0.7250735207651392,0.3143408204899028,0.4164426660149462,0.7347763886125922,0.905888534907127,0.43259833248462026,0.7126008739372672,0.39543241117524097,0.5853829029551493,0.43259833248462026,0.5427084642106971,0.8753532061048447,0.5957821860201733,0.29030228748044307,0.6132808521701392,0.8216604624230557,0.45813684637998325,0.5543773091352999,0.5577943525113968,0.45813684637998325,0.20170247996556362,0.7128082908825528,0.5004257000569705,0.35197833291743064,0.5543773091352999,0.45794926601421826,0.3264318421542522,0.5706513210590537,0.5155211404435891,0.734629102871483,0.2726822891720518,0.5843847207388347,0.4164426660149462,0.5543773091352999,0.6783135498290027,0.48635646426271995,0.5792745189137098,0.5843847207388347,0.5427084642106971,0.4048561540339701,0.7474633789818859,0.39136888653561114,0.5590696814052099,0.3759106029625544,0.24037870201280362,0.795449039351403,0.9271496580519704,0.4474804203607566,0.4048561540339701,0.3143408204899028,0.6102404333014744,0.5957821860201733,0.5810814578870434,0.35197833291743064,0.3647469354291417,0.3143408204899028,0.8602880766249535,0.5543773091352999,0.48635646426271995,0.23741994961908533,0.5425209258791265,0.5004257000569705,0.23038487637750274,0.48635646426271995,0.4474804203607566,0.7664800733161741,0.24922928237079778,0.3759106029625544,0.16894631827569193,0.9211291424862253,0.6975924682552501,0.4164426660149462,0.45794926601421826,0.5727113643593368,0.23741994961908533,0.755439039258788,0.18396659146168357,0.7347763886125922,0.3264318421542522,0.3647469354291417,0.4745945357109502,0.4048561540339701,0.23741994961908533,0.7174511180052746,0.7459813312917573,0.5004257000569705,0.6147533457350728,0.45794926601421826,0.7984038899085464,0.3143408204899028,0.3759106029625544,0.8224546538908649,0.20170247996556362,0.5169532258771148,0.621698279565977,0.48845840190677786,0.23741994961908533,0.3264318421542522,0.5543773091352999,0.8216157517332564,0.31785860690320744,0.3915488947698728,0.35569881435023265,0.3323680302755193,0.4164426660149462,0.3759106029625544,0.45794926601421826,0.4164426660149462,0.3143408204899028,0.5543773091352999,0.35197833291743064,0.24922928237079778,0.755439039258788,0.3143408204899028,0.3759106029625544,0.5957821860201733,0.30411462617627616,0.3759106029625544,0.6389361191808908,0.5004257000569705,0.6741505469542038,0.5437285897515776,0.8687214512552832,0.2822802782129798,0.39136888653561114,0.4474804203607566,0.4786537619638718,0.3143408204899028,0.5169532258771148,0.45813684637998325,0.6741505469542038,0.45813684637998325,0.3759106029625544,0.5004257000569705,0.1464572907359755,0.5169532258771148,0.43259833248462026,0.3915488947698728,0.3759106029625544,0.8152705149411787,0.5543773091352999,0.48635646426271995,0.3647469354291417,0.3759106029625544,0.663715534886221,0.39543241117524097,0.18396659146168357,0.5427084642106971,0.5543773091352999,0.18396659146168357,0.5543773091352999,0.20170247996556362,0.3143408204899028,0.7141407847979061,0.7809053217999923,0.5169532258771148,0.6248880190321261,0.5853829029551493,0.4164426660149462,0.37718518280657815,0.6003528707128026,0.3759106029625544,0.8529013359937011,0.45813684637998325,0.3075693067606709,0.7347763886125922,0.6358668572132666,0.5543773091352999,0.48635646426271995,0.39136888653561114,0.3759106029625544,0.8660800039072175,0.20170247996556362,0.5957821860201733,0.18396659146168357,0.29030228748044307,0.5957821860201733,0.39136888653561114,0.35197833291743064,0.6248880190321261,0.5957821860201733,0.8031697475490076,0.5957821860201733,0.4609888655173193,0.5049902125797693,0.6248880190321261,0.9588087227833022,0.4164426660149462,0.700450616976183,0.8845542441011031,0.39136888653561114,0.5543773091352999,0.9326003416517521,0.6358668572132666,0.6003528707128026,0.4745945357109502,0.5543773091352999,0.3759106029625544,0.7893194201925466,0.3759106029625544,0.4048561540339701,0.8224546538908649,0.26946697078262455,0.48635646426271995,0.7664800733161741,0.6741505469542038,0.4745945357109502,0.8123896846741153,0.9694836476685165,0.5287085547287195,0.3143408204899028,0.4786537619638718,0.6389361191808908,0.5957821860201733,0.4164426660149462,0.5276079791737402,0.4462774389175736,0.795449039351403,0.7306630783516822,0.5957821860201733,0.5440555710562359,0.5427084642106971,0.3448037609515864,0.7102433717229714,0.6895720059182052,0.6741505469542038,0.5543773091352999,0.6783135498290027,0.23038487637750274,0.4745945357109502,0.45794926601421826,0.3759106029625544,0.25266136325223504,0.35569881435023265,0.6741505469542038,0.6248880190321261,0.4745945357109502,0.3759106029625544,0.3647469354291417,0.45813684637998325,0.45813684637998325,0.5543773091352999,0.3915488947698728,0.8060000262926955,0.3759106029625544,0.5843847207388347,0.23741994961908533,0.6389361191808908,0.3759106029625544,0.8451668992855037,0.26180831571416435,0.5543773091352999,0.3143408204899028,0.3143408204899028,0.3143408204899028,0.35197833291743064,0.5287085547287195,0.35197833291743064,0.5843847207388347,0.4164426660149462,0.6358668572132666,0.39136888653561114,0.8387976324243253,0.6105538897363744,0.6769942919430241,0.3759106029625544,0.7347763886125922,0.9078983940213622,0.5957821860201733,0.4164426660149462,0.7438573346115472,0.9341619328231284,0.48506453280904477,0.795449039351403,0.6358668572132666,0.39136888653561114,0.8660800039072175,0.29587005746600703,0.805101800068433,0.5843847207388347,0.6102404333014744,0.8988787483643911,0.18396659146168357,0.29030228748044307,0.23038487637750274,0.6500341716804694,0.7003865991040744,0.23741994961908533,0.9569214019943165,0.646625694866018,0.23038487637750274,0.48845840190677786,0.5843847207388347,0.45794926601421826,0.5002367895525117,0.6921917785200535,0.7225143468001953,0.663715534886221,0.45813684637998325,0.4745945357109502,0.18396659146168357,0.663715534886221,0.4164426660149462,0.4529275332361275,0.45813684637998325,0.2822802782129798,0.4164426660149462,0.5543773091352999,0.5287085547287195,0.8899124484382027,0.30411462617627616,0.23741994961908533,0.4164426660149462,0.527419640615005,0.3264318421542522,0.5210154792630256,0.29587005746600703,0.7253417922695146,0.4745945357109502,0.6358668572132666,0.5957821860201733,0.7463794089476189,0.21079287805534513,0.5198201398890713,0.2822802782129798,0.702515349231412,0.9439068056759233,0.5843847207388347,0.3759106029625544,0.6248880190321261,0.9007719535119396,0.7140784984122365,0.6402579682950915,0.5543773091352999,0.5427084642106971,0.6741505469542038,0.5543773091352999,0.5989762333580281,0.6402579682950915,0.6872770196196905,0.29030228748044307,0.20170247996556362,0.9203388289680738,0.48845840190677786,0.35569881435023265,0.6497342621623281,0.3143408204899028,0.6540491275392507,0.867371206469368,0.5015941098048589,0.621698279565977,0.45813684637998325,0.3759106029625544,0.45813684637998325,0.7227785281651544,0.48845840190677786,0.7253417922695146,0.6105538897363744,0.663715534886221,0.5706513210590537,0.8845542441011031,0.4164426660149462,0.3264318421542522,0.3759106029625544,0.3647469354291417,0.663715534886221,0.20170247996556362,0.4164426660149462,0.5957821860201733,0.18396659146168357,0.3647469354291417,0.5543773091352999,0.23741994961908533,0.700450616976183,0.7853941895629196,0.48635646426271995,0.89521231100173,0.45813684637998325,0.5427084642106971,0.48635646426271995,0.24922928237079778,0.5004257000569705,0.950271094843834,0.3647469354291417,0.4164426660149462,0.7661894185657765,0.3759106029625544,0.663715534886221,0.5543773091352999,0.31785860690320744,0.4529275332361275,0.43659684442394686,0.3143408204899028,0.663715534886221,0.3759106029625544,0.9616951707996916,0.3264318421542522,0.6553487527037533,0.23038487637750274,0.5543773091352999,0.3759106029625544,0.3915488947698728,0.45813684637998325,0.6248880190321261,0.45813684637998325,0.6818539415827617,0.663353150955415,0.663715534886221,0.5843847207388347,0.40602935402538853,0.43259833248462026,0.20170247996556362,0.5427084642106971,0.755439039258788,0.35569881435023265,0.26180831571416435,0.7626996570849104,0.3143408204899028,0.5843847207388347,0.4164426660149462,0.8424350143545267,0.5169532258771148,0.5004257000569705,0.20170247996556362,0.722357186706165,0.805101800068433,0.35569881435023265,0.7664800733161741,0.5543773091352999,0.29030228748044307,0.6358668572132666,0.4164426660149462,0.35569881435023265,0.35569881435023265,0.35197833291743064,0.7347763886125922,0.9655092031489172,0.8030095563882461,0.5155211404435891,0.35569881435023265,0.8085318063638203,0.3759106029625544,0.7875486705641241,0.7505226317021343,0.26946697078262455,0.9590414238190457,0.6003528707128026,0.6358668572132666,0.3915488947698728,0.5985445717694913,0.2822802782129798,0.26946697078262455,0.700450616976183,0.24922928237079778,0.3759106029625544,0.43241286422175146,0.43259833248462026,0.23741994961908533,0.5957821860201733,0.26946697078262455,0.5543773091352999,0.9378904760251736,0.20170247996556362,0.5470212259186027,0.5706327365420681,0.3915488947698728,0.4164426660149462,0.8660800039072175,0.5169532258771148,0.7141407847979061,0.8178552549401442,0.23741994961908533,0.6402579682950915,0.3759106029625544,0.43241286422175146,0.5957821860201733,0.4164426660149462,0.3264318421542522,0.5543773091352999,0.3759106029625544,0.5843847207388347,0.23741994961908533,0.8735668356335836,0.35569881435023265,0.3915488947698728,0.5957821860201733,0.24922928237079778,0.5512648285125022,0.29030228748044307,0.8893494024193623,0.2822802782129798,0.7463794089476189,0.3759106029625544,0.7225143468001953,0.6469374473808035,0.895088600910148,0.3759106029625544,0.5695689519497218,0.24922928237079778,0.5135601380290966,0.43659684442394686,0.23741994961908533,0.5810814578870434,0.7748082017503882,0.5843847207388347,0.8196610768262191,0.9766097215151034,0.8845542441011031,0.4462774389175736,0.21079287805534513,0.8660800039072175,0.35197833291743064,0.3759106029625544,0.5543773091352999,0.20170247996556362,0.23741994961908533,0.3759106029625544,0.43659684442394686,0.9211291424862253,0.8851075172825238,0.5543773091352999,0.31785860690320744,0.6199519515381143,0.5002367895525117,0.7664800733161741,0.5543773091352999,0.5957821860201733,0.8433405107073043,0.4164426660149462,0.6590115926291145,0.7347763886125922,0.7174511180052746,0.6248880190321261,0.45813684637998325,0.7685291427057662,0.4164426660149462,0.9398572874787093,0.9674746648161816,0.48635646426271995,0.3759106029625544,0.43259833248462026,0.9199388058986485,0.4786537619638718,0.45813684637998325,0.6358668572132666,0.4164426660149462,0.5287085547287195,0.5957821860201733,0.48635646426271995,0.5543773091352999,0.5543773091352999,0.48635646426271995,0.2822802782129798,0.3759106029625544,0.8145364186166504,0.6818539415827617,0.35569881435023265,0.9586191534838325,0.5004257000569705,0.3759106029625544,0.8303401257779374,0.45813684637998325,0.45813684637998325,0.23741994961908533,0.3143408204899028,0.2822802782129798,0.3143408204899028,0.29030228748044307,0.39136888653561114,0.501783018237705,0.45794926601421826,0.6358668572132666,0.6003528707128026,0.5169532258771148,0.663715534886221,0.5427084642106971,0.6741505469542038,0.48635646426271995,0.45813684637998325,0.7474633789818859,0.4462774389175736,0.8831759325437458,0.5169532258771148,0.5543773091352999,0.6248880190321261,0.5543773091352999,0.3411369005539118,0.5169532258771148,0.6741505469542038,0.29030228748044307,0.35197833291743064,0.6042506841226614,0.5543773091352999,0.5543773091352999,0.8742195054396551,0.3759106029625544,0.5543773091352999,0.93787548322451,0.5727113643593368,0.9707307442377623,0.5957821860201733,0.35197833291743064,0.5543773091352999,0.663715534886221,0.5543773091352999,0.6411677357654727,0.5287085547287195,0.6511989793160365,0.527419640615005,0.5985445717694913,0.4164426660149462,0.5210154792630256,0.5169532258771148,0.16894631827569193,0.6603022578318944,0.6102404333014744,0.3143408204899028,0.20170247996556362,0.26946697078262455,0.6402579682950915,0.4745945357109502,0.45794926601421826,0.3759106029625544,0.7347763886125922,0.3759106029625544,0.9007719535119396,0.5590696814052099,0.7437992002899597,0.4745945357109502,0.9272320422221628,0.663715534886221,0.5957821860201733,0.4164426660149462,0.6358668572132666,0.5308043770872879,0.35197833291743064,0.45813684637998325,0.700450616976183,0.5957821860201733,0.48635646426271995,0.23741994961908533,0.5957821860201733,0.6872770196196905,0.5871710247532903,0.3264318421542522,0.6581329984941823,0.24922928237079778,0.45794926601421826,0.35569881435023265,0.4745945357109502,0.43259833248462026,0.9049920997724497,0.4745945357109502,0.44594479986075625,0.45813684637998325,0.5427084642106971,0.9271908608743504,0.6497342621623281,0.30411462617627616,0.5543773091352999,0.5543773091352999,0.5739019254797592,0.6606766769916926,0.6358668572132666,0.43259833248462026,0.6875602416003345,0.3759106029625544,0.7664800733161741,0.5727113643593368,0.3759106029625544,0.4048561540339701,0.8077419063067536,0.7101805807591578,0.45794926601421826,0.5169532258771148,0.3759106029625544,0.974534291736073,0.4164426660149462,0.663715534886221,0.3264318421542522,0.6136000767723501,0.6358668572132666,0.5843847207388347,0.5543773091352999,0.5957821860201733,0.4164426660149462,0.5458149972674823,0.3759106029625544,0.7459235143772921,0.6400839044870359,0.7747017192314483,0.3411369005539118,0.5706513210590537,0.9280030557042022,0.5437285897515776,0.4164426660149462,0.7438573346115472,0.4786537619638718,0.5308043770872879,0.9510344600273829,0.29587005746600703,0.6389361191808908,0.4882416369884959,0.5543773091352999,0.6116034763602779,0.5169532258771148,0.48845840190677786,0.8556468524796815,0.8233369394872426,0.3264318421542522,0.795449039351403,0.6662737194131843,0.3759106029625544,0.93787548322451,0.45813684637998325,0.29030228748044307,0.3143408204899028,0.7809053217999923,0.45813684637998325,0.3759106029625544,0.6257797621879442,0.3759106029625544,0.755439039258788,0.4164426660149462,0.3143408204899028,0.6779592640682979,0.48635646426271995,0.45794926601421826,0.9078983940213622,0.29030228748044307,0.3915488947698728,0.5004257000569705,0.8216604624230557,0.5004257000569705,0.6741505469542038,0.4164426660149462,0.3143408204899028,0.29030228748044307,0.5739019254797592,0.26946697078262455,0.35197833291743064,0.29030228748044307,0.6248880190321261,0.3915488947698728,0.8845542441011031,0.8556468524796815,0.45813684637998325,0.6248880190321261,0.4354191207193928,0.3143408204899028,0.6361013732742238,0.5985445717694913,0.5843847207388347,0.5004257000569705,0.4164426660149462,0.6497342621623281,0.5004257000569705,0.43259833248462026,0.5004257000569705,0.5543773091352999,0.5543773091352999,0.3915488947698728,0.8416355932484285,0.6102404333014744,0.5727113643593368,0.795449039351403,0.5543773091352999,0.5810814578870434,0.6102404333014744,0.20170247996556362,0.48635646426271995,0.29030228748044307,0.4164426660149462,0.3915488947698728,0.4164426660149462,0.24922928237079778,0.5543773091352999,0.621936495280063,0.2822802782129798,0.39136888653561114,0.3759106029625544,0.5843847207388347,0.3759106029625544,0.3759106029625544,0.5543773091352999,0.43259833248462026,0.5425209258791265,0.7224531758515641,0.700450616976183,0.24922928237079778,0.43259833248462026,0.29587005746600703,0.6903096167733493,0.5169532258771148,0.3759106029625544,0.5543773091352999,0.45813684637998325,0.35197833291743064,0.8660800039072175,0.7547980430370211,0.5427084642106971,0.3323680302755193,0.663353150955415,0.6358668572132666,0.4048561540339701,0.4164426660149462,0.663715534886221,0.563077102929762,0.5287085547287195,0.2822802782129798,0.20170247996556362,0.700450616976183,0.6960251866536413,0.29587005746600703,0.4951749556048154,0.5374913925862895,0.21079287805534513,0.45813684637998325,0.8578897164826782,0.4164426660149462,0.48635646426271995,0.20170247996556362,0.35197833291743064,0.5543773091352999,0.8451668992855037,0.23741994961908533,0.5002367895525117,0.48845840190677786,0.663715534886221,0.43259833248462026,0.23741994961908533,0.6497342621623281,0.7438573346115472,0.3759106029625544,0.45794926601421826,0.8556468524796815,0.5543773091352999,0.3915488947698728,0.45794926601421826,0.3075693067606709,0.5210154792630256,0.7505226317021343,0.3915488947698728,0.20170247996556362,0.1464572907359755,0.4164426660149462,0.6741505469542038,0.5427084642106971,0.5543773091352999,0.3915488947698728,0.6402579682950915,0.5543773091352999,0.5843847207388347,0.29587005746600703,0.5427084642106971,0.5842011792183065,0.48635646426271995,0.3759106029625544,0.3759106029625544,0.6247108775009074,0.8451668992855037,0.5957821860201733,0.7505226317021343,0.4164426660149462,0.4786537619638718,0.5543773091352999,0.5543773091352999,0.23741994961908533,0.4462774389175736,0.663715534886221,0.23741994961908533,0.3915488947698728,0.5543773091352999,0.7474633789818859,0.9609139026323038,0.5706513210590537,0.29030228748044307,0.48635646426271995,0.9326003416517521,0.6257797621879442,0.82846109030147,0.5543773091352999,0.8604289573636021,0.9766097215151034,0.3759106029625544,0.5543773091352999,0.48635646426271995,0.5543773091352999,0.5004257000569705,0.1464572907359755,0.2822802782129798,0.7344599440560435,0.6042506841226614,0.5843847207388347,0.8845542441011031,0.5957821860201733,0.5004257000569705,0.5543773091352999,0.5287085547287195,0.7664800733161741,0.9494134953909773,0.3759106029625544,0.3759106029625544,0.20170247996556362,0.5843847207388347,0.6385215124238496,0.45813684637998325,0.45813684637998325,0.5543773091352999,0.797311133912193,0.6248880190321261,0.23741994961908533,0.5957821860201733,0.5287085547287195,0.31785860690320744,0.5543773091352999,0.4164426660149462,0.563077102929762,0.39543241117524097,0.5169532258771148,0.5002367895525117,0.8845542441011031,0.23741994961908533,0.2220056102994066,0.6102404333014744,0.4745945357109502,0.48635646426271995,0.5843847207388347,0.3143408204899028,0.23038487637750274,0.6102404333014744,0.3075693067606709,0.35197833291743064,0.7809053217999923,0.5957821860201733,0.4164426660149462,0.5287085547287195,0.5543773091352999,0.4164426660149462,0.5543773091352999,0.2822802782129798,0.6741505469542038,0.5957821860201733,0.8836771412608097,0.3915488947698728,0.35197833291743064,0.48635646426271995,0.3759106029625544,0.28152151129846664,0.7505226317021343,0.5004257000569705,0.6439973730487573,0.5843847207388347,0.6003528707128026,0.5002367895525117,0.3759106029625544,0.5308043770872879,0.24037870201280362,0.5842011792183065,0.5543773091352999,0.563077102929762,0.35197833291743064,0.20170247996556362,0.4164426660149462,0.7174511180052746,0.9195154414834553,0.8185618926410352,0.3759106029625544,0.29030228748044307,0.7851719429821403,0.5004257000569705,0.23741994961908533,0.5287085547287195,0.7015885495782119,0.3143408204899028,0.4164426660149462,0.9889298238250658,0.974534291736073,0.8152705149411787,0.43659684442394686,0.5957821860201733,0.3143408204899028,0.1464572907359755,0.54840234606731,0.6358668572132666,0.6248880190321261,0.5543773091352999,0.4462774389175736,0.45813684637998325,0.8556468524796815,0.3915488947698728,0.3759106029625544,0.3647469354291417,0.9616951707996916,0.950026119391863,0.43259833248462026,0.23741994961908533,0.3143408204899028,0.3759106029625544,0.3143408204899028,0.6741505469542038,0.45813684637998325,0.5843847207388347,0.9439229570397092,0.3759106029625544,0.8772989606625988,0.45813684637998325,0.5374913925862895,0.3759106029625544,0.5957821860201733,0.5843847207388347,0.6590115926291145,0.23741994961908533,0.6741505469542038,0.24922928237079778,0.5032964564487237,0.5843847207388347,0.6248880190321261,0.5004257000569705,0.5287085547287195,0.45813684637998325,0.30411462617627616,0.700450616976183,0.9238401432909249,0.795449039351403,0.3759106029625544,0.8823920152218145,0.3759106029625544,0.7892398102421468,0.23038487637750274,0.3915488947698728,0.35197833291743064,0.9470510542816423,0.7474633789818859,0.5957821860201733,0.39136888653561114,0.35197833291743064,0.5315689201323706,0.20170247996556362,0.8660800039072175,0.3323680302755193,0.5957821860201733,0.5427084642106971,0.4164426660149462,0.6102404333014744,0.7769810558153639,0.8496319920662242,0.35197833291743064,0.5734624937758942,0.3448037609515864,0.3759106029625544,0.3143408204899028,0.48635646426271995,0.6248880190321261,0.3411369005539118,0.8216604624230557,0.9549365412186107,0.6247108775009074,0.6885081718100117,0.3143408204899028,0.4048561540339701,0.39543241117524097,0.663715534886221,0.5287085547287195,0.8393527618247569,0.35569881435023265,0.4164426660149462,0.48845840190677786,0.7347763886125922,0.5543773091352999,0.3323680302755193,0.3759106029625544,0.3264318421542522,0.9767334236116845,0.45813684637998325,0.39543241117524097,0.35197833291743064,0.31785860690320744,0.3143408204899028,0.39136888653561114,0.3759106029625544,0.3143408204899028,0.4745945357109502,0.4529275332361275,0.4048561540339701,0.7141407847979061,0.9326715267765169,0.3143408204899028,0.43259833248462026,0.35197833291743064,0.3143408204899028,0.5440555710562359,0.19410330997231878,0.31785860690320744,0.45813684637998325,0.5957821860201733,0.4048561540339701,0.3143408204899028,0.3264318421542522,0.700450616976183,0.6291580601181241,0.3759106029625544,0.4164426660149462,0.700450616976183,0.20170247996556362,0.5957821860201733,0.5543773091352999,0.45813684637998325,0.5957821860201733,0.5427084642106971,0.5957821860201733,0.6766680211526968,0.5843847207388347,0.45813684637998325,0.6540491275392507,0.3759106029625544,0.6529470840321128,0.35197833291743064,0.35197833291743064,0.5437285897515776,0.45813684637998325,0.677183968356359,0.8145364186166504,0.640187694487972,0.35197833291743064,0.621698279565977,0.5425209258791265,0.5543773091352999,0.5543773091352999,0.6874946979501896,0.5957821860201733,0.7227785281651544,0.29587005746600703,0.6497342621623281,0.6741505469542038,0.44729360148716263,0.48635646426271995,0.6741505469542038,0.3759106029625544,0.5425209258791265,0.4164426660149462,0.5843847207388347,0.45813684637998325,0.5426327470815047,0.6247108775009074,0.3411369005539118,0.6741505469542038,0.5427084642106971,0.48635646426271995,0.7851719429821403,0.3759106029625544,0.3143408204899028,0.6389361191808908,0.45813684637998325,0.4951749556048154,0.5543773091352999,0.9246775201077202,0.4164426660149462,0.5169532258771148,0.26946697078262455,0.9065286386481798,0.3143408204899028,0.3759106029625544,0.48635646426271995,0.6358668572132666,0.7664800733161741,0.2726822891720518,0.6199519515381143,0.5470212259186027,0.5427084642106971,0.8085318063638203,0.5425209258791265,0.9007719535119396,0.5987879582445232,0.5427084642106971,0.2822802782129798,0.3759106029625544,0.45813684637998325,0.3143408204899028,0.8588811250353267,0.35569881435023265,0.5287085547287195,0.5957821860201733,0.5957821860201733,0.39136888653561114,0.5287085547287195,0.3411369005539118,0.3759106029625544,0.30411462617627616,0.42067508293580297,0.5576556166281686,0.5590696814052099,0.5425209258791265,0.5002367895525117,0.5843847207388347,0.3143408204899028,0.45813684637998325,0.6248880190321261,0.5169532258771148,0.805101800068433,0.3759106029625544,0.3759106029625544,0.40602935402538853,0.663715534886221,0.563077102929762,0.7664800733161741,0.4164426660149462,0.26946697078262455,0.9070292629048783,0.4164426660149462,0.8451668992855037,0.8868788978657122,0.7505226317021343,0.7347763886125922,0.39543241117524097,0.5287085547287195,0.20170247996556362,0.29030228748044307,0.3264318421542522,0.45794926601421826,0.3759106029625544,0.3915488947698728,0.6248880190321261,0.26946697078262455,0.9052279944805214,0.9481909604730949,0.45794926601421826,0.6248880190321261,0.35569881435023265,0.29030228748044307,0.26946697078262455,0.48635646426271995,0.35569881435023265,0.5543773091352999,0.9038088967805977,0.5543773091352999,0.3915488947698728,0.24922928237079778,0.6042506841226614,0.4462774389175736,0.31785860690320744,0.3143408204899028,0.35197833291743064,0.8451668992855037,0.3759106029625544,0.3323680302755193,0.5590696814052099,0.5543773091352999,0.5004257000569705,0.7225143468001953,0.5543773091352999,0.23038487637750274,0.6766012672833561,0.8141598610725865,0.8968607772415877,0.8334178657635132,0.4164426660149462,0.3759106029625544,0.4951749556048154,0.45813684637998325,0.43659684442394686,0.4164426660149462,0.6439973730487573,0.5169532258771148,0.4164426660149462,0.2726822891720518,0.6136000767723501,0.3647469354291417,0.5543773091352999,0.9038088967805977,0.3143408204899028,0.35569881435023265,0.45813684637998325,0.5543773091352999,0.5843847207388347,0.8911380873684669,0.5543773091352999,0.5427084642106971,0.5843847207388347,0.7839993958062536,0.43259833248462026,0.45813684637998325,0.5957821860201733,0.31785860690320744,0.6428985890656744,0.4462774389175736,0.70010993277159,0.5810814578870434,0.3759106029625544,0.3143408204899028,0.7830437239702526,0.48635646426271995,0.663715534886221,0.9655092031489172,0.39543241117524097,0.8588811250353267,0.7347763886125922,0.35197833291743064,0.8844919189889611,0.3143408204899028,0.3143408204899028,0.3143408204899028,0.4164426660149462,0.8451668992855037,0.5543773091352999,0.6248880190321261,0.563077102929762,0.4164426660149462,0.23741994961908533,0.5004257000569705,0.39543241117524097,0.7347763886125922,0.3915488947698728,0.3143408204899028,0.9326003416517521,0.7129687083796628,0.7617656620508755,0.3759106029625544,0.6248880190321261,0.24922928237079778,0.3143408204899028,0.5543773091352999,0.6741505469542038,0.5957821860201733,0.8911380873684669,0.48635646426271995,0.23741994961908533,0.5169532258771148,0.5543773091352999,0.6370524902286087,0.3759106029625544,0.23741994961908533,0.6402579682950915,0.5308043770872879,0.8282920674890459,0.7026966204652992,0.8660800039072175,0.4164426660149462,0.7771168363273624,0.5004257000569705,0.5427084642106971,0.4164426660149462,0.5810814578870434,0.4164426660149462,0.39136888653561114,0.663715534886221,0.3143408204899028,0.6358668572132666,0.3143408204899028,0.23038487637750274,0.6003528707128026,0.4164426660149462,0.4164426660149462,0.6102404333014744,0.6147533457350728,0.5706513210590537,0.9049920997724497,0.4164426660149462,0.5543773091352999,0.5427084642106971,0.5957821860201733,0.3143408204899028,0.35569881435023265,0.2822802782129798,0.5287085547287195,0.7263103097474309,0.23741994961908533,0.6872770196196905,0.4048561540339701,0.621698279565977,0.8556468524796815,0.45794926601421826,0.2822802782129798,0.35569881435023265,0.8370553397169387,0.6248880190321261,0.8845542441011031,0.3759106029625544,0.5427084642106971,0.6741505469542038,0.9149305186435555,0.7664800733161741,0.23741994961908533,0.6509688542413914,0.39136888653561114,0.4164426660149462,0.3143408204899028,0.29030228748044307,0.6329277346673984,0.5957821860201733,0.5810814578870434,0.663715534886221,0.713083794774455,0.9007719535119396,0.663715534886221,0.6741505469542038,0.6248880190321261,0.3915488947698728,0.5647232361840004,0.4164426660149462,0.3143408204899028,0.4164426660149462,0.5440555710562359,0.4529275332361275,0.6606766769916926,0.5957821860201733,0.7963310234944956,0.2822802782129798,0.570639624091616,0.8216604624230557,0.6248880190321261,0.23741994961908533,0.43241286422175146,0.35197833291743064,0.570824754168005,0.4164426660149462,0.5957821860201733,0.3759106029625544,0.6398840215317985,0.26180831571416435,0.39136888653561114,0.6439973730487573,0.7474633789818859,0.8845542441011031,0.6700236349963687,0.9216140849249576,0.43259833248462026,0.6329277346673984,0.7141407847979061,0.7347763886125922,0.5440555710562359,0.3143408204899028,0.4745945357109502,0.7551954403544732,0.6769942919430241,0.663715534886221,0.26946697078262455,0.43259833248462026,0.4462774389175736,0.4594849601330388,0.6248880190321261,0.5210154792630256,0.3143408204899028,0.31785860690320744,0.3759106029625544,0.8660800039072175,0.45794926601421826,0.48635646426271995,0.48845840190677786,0.5957821860201733,0.6329509776007564,0.5843847207388347,0.35197833291743064,0.3915488947698728,0.621698279565977,0.5427084642106971,0.5004257000569705,0.3264318421542522,0.5169532258771148,0.3759106029625544,0.9636202716055147,0.6102404333014744,0.6358668572132666,0.4164426660149462,0.6042506841226614,0.42485783779133474,0.2822802782129798,0.5427084642106971,0.4164426660149462,0.5543773091352999,0.35197833291743064,0.9422471991027591,0.45794926601421826,0.5957821860201733,0.5455568944703725,0.5706513210590537,0.4113475443028923,0.3143408204899028,0.5590696814052099,0.3759106029625544,0.7052471312628438,0.3759106029625544,0.563077102929762,0.9879903215671724,0.9060416038751421,0.48845840190677786,0.5957821860201733,0.43942351336209257,0.2822802782129798,0.4745945357109502,0.5004257000569705,0.4462774389175736,0.6913491007364723,0.3143408204899028,0.5543773091352999,0.4113475443028923,0.29030228748044307,0.6136000767723501,0.45813684637998325,0.3143408204899028,0.6649262609987449,0.4164426660149462,0.6136000767723501,0.3915488947698728,0.6248880190321261,0.3759106029625544,0.5543773091352999,0.24922928237079778,0.563077102929762,0.4667207040236499,0.5543773091352999,0.23741994961908533,0.5843847207388347,0.24922928237079778,0.700450616976183,0.23741994961908533,0.5843847207388347,0.43659684442394686,0.20170247996556362,0.3759106029625544,0.45794926601421826,0.6523430941223293,0.5727113643593368,0.6275758349865408,0.48635646426271995,0.5543773091352999,0.4164426660149462,0.3323680302755193,0.3915488947698728,0.7141407847979061,0.6003528707128026,0.3759106029625544,0.663715534886221,0.5957821860201733,0.8788480924945531,0.2822802782129798,0.5287085547287195,0.4164426660149462,0.9425072715948377,0.3759106029625544,0.39543241117524097,0.6481723594306777,0.7664800733161741,0.6389361191808908,0.5543773091352999,0.20170247996556362,0.35197833291743064,0.5957821860201733,0.48635646426271995,0.21079287805534513,0.24922928237079778,0.5843847207388347,0.5210154792630256,0.5957821860201733,0.3323680302755193,0.6116034763602779,0.9412525051909848,0.3915488947698728,0.3143408204899028,0.8451668992855037,0.8216604624230557,0.6248880190321261,0.48635646426271995,0.3289617184696794,0.5425209258791265,0.6497342621623281,0.700450616976183,0.6261597982822272,0.5843847207388347,0.3143408204899028,0.3143408204899028,0.5957821860201733,0.6402579682950915,0.3759106029625544,0.5427084642106971,0.5427084642106971,0.5169532258771148,0.7225143468001953,0.5543773091352999,0.8152705149411787,0.6783135498290027,0.4164426660149462,0.29030228748044307,0.3759106029625544,0.663715534886221,0.3759106029625544,0.4462774389175736,0.5543773091352999,0.45813684637998325,0.3759106029625544,0.24922928237079778,0.5957821860201733,0.3759106029625544,0.7695784553667155,0.5427084642106971,0.48635646426271995,0.45794926601421826,0.45794926601421826,0.31322717783673193,0.45813684637998325,0.3264318421542522,0.6402579682950915,0.7052471312628438,0.9272320422221628,0.5004257000569705,0.5985445717694913,0.4113475443028923,0.9549365412186107,0.20170247996556362,0.5543773091352999,0.5727113643593368,0.29030228748044307,0.5543773091352999,0.3759106029625544,0.5543773091352999,0.46245719991848183,0.43259833248462026,0.842398406029357,0.6402579682950915,0.24922928237079778,0.4745945357109502,0.3143408204899028,0.4164426660149462,0.5287085547287195,0.3143408204899028,0.8549192870109854,0.9137356605951302,0.45813684637998325,0.4164426660149462,0.6358668572132666,0.5155211404435891,0.5004257000569705,0.5543773091352999,0.3264318421542522,0.5543773091352999,0.3075693067606709,0.3759106029625544,0.4164426660149462,0.21079287805534513,0.23741994961908533,0.5957821860201733,0.6439973730487573,0.6402579682950915,0.3759106029625544,0.663715534886221,0.5810814578870434,0.6872770196196905,0.6523430941223293,0.45794926601421826,0.5002367895525117,0.4048561540339701,0.3323680302755193,0.700450616976183,0.45813684637998325,0.35197833291743064,0.9238523548753238,0.4745184605858448,0.4164426660149462,0.370996114857841,0.1464572907359755,0.7347763886125922,0.23741994961908533,0.4208865212510132,0.8216604624230557,0.7347763886125922,0.35197833291743064,0.4164426660149462,0.80437760183023,0.4786537619638718,0.6358668572132666,0.7616602326822801,0.7126364204322431,0.5427084642106971,0.3915488947698728,0.6358668572132666,0.515661613750973,0.2822802782129798,0.941619129462251,0.7505226317021343,0.39136888653561114,0.4164426660149462,0.48635646426271995,0.3143408204899028,0.5543773091352999,0.3759106029625544,0.713083794774455,0.3647469354291417,0.6497342621623281,0.8845542441011031,0.7474633789818859,0.7102433717229714,0.1464572907359755,0.45794926601421826,0.29030228748044307,0.5576556166281686,0.20170247996556362,0.5543773091352999,0.7953993936379536,0.48635646426271995,0.5155211404435891,0.9831804212210857,0.5842011792183065,0.23038487637750274,0.23741994961908533,0.8660800039072175,0.5888124375222442,0.5957821860201733,0.4462774389175736,0.663715534886221,0.26946697078262455,0.5755190821214163,0.45813684637998325,0.5843847207388347,0.795449039351403,0.5287085547287195,0.663715534886221,0.5308043770872879,0.29030228748044307,0.9363156786687857,0.18396659146168357,0.9593356526860969,0.3915488947698728,0.48845840190677786,0.3759106029625544,0.5002367895525117,0.4017687488331437,0.5843847207388347,0.39136888653561114,0.43259833248462026,0.45813684637998325,0.24922928237079778,0.4164426660149462,0.5427084642106971,0.4048561540339701,0.6791753016574958,0.2822802782129798,0.5543773091352999,0.35197833291743064,0.5543773091352999,0.8048197129661423,0.43259833248462026,0.4852532769600578,0.5957821860201733,0.6118440799733185,0.9389308611131789,0.6529470840321128,0.7664800733161741,0.5004257000569705,0.3143408204899028,0.3915488947698728,0.5427084642106971,0.6741505469542038,0.5810814578870434,0.23741994961908533,0.6439973730487573,0.48635646426271995,0.35569881435023265,0.621698279565977,0.3759106029625544,0.3759106029625544,0.39136888653561114,0.8085318063638203,0.26946697078262455,0.700450616976183,0.89521231100173,0.23741994961908533,0.26946697078262455,0.5985445717694913,0.663353150955415,0.45813684637998325,0.4745945357109502,0.26180831571416435,0.5543773091352999,0.3759106029625544,0.5723819009770591,0.3448037609515864,0.7347763886125922,0.3143408204899028,0.6439973730487573,0.5957821860201733,0.9230282469451194,0.6675860805863565,0.4048561540339701,0.5843847207388347,0.30411462617627616,0.35569881435023265,0.700450616976183,0.8085318063638203,0.9693226111034127,0.6248880190321261,0.1464572907359755,0.5287085547287195,0.4048561540339701,0.26946697078262455,0.3759106029625544,0.3915488947698728,0.5427084642106971,0.700450616976183,0.6897397532049427,0.8301113380021501,0.7273566809484141,0.7771168363273624,0.5169532258771148,0.8350060116844316,0.35197833291743064,0.370996114857841,0.3264318421542522,0.3264318421542522,0.5308043770872879,0.45813684637998325,0.8334178657635132,0.5427084642106971,0.7875486705641241,0.3759106029625544,0.8660800039072175,0.9725443172357079,0.5004257000569705,0.9100849794453789,0.5706513210590537,0.7853941895629196,0.39136888653561114,0.6398840215317985,0.29030228748044307,0.4048561540339701,0.5706513210590537,0.29030228748044307,0.5957821860201733,0.6439973730487573,0.663715534886221,0.3264318421542522,0.35197833291743064,0.6741505469542038,0.3759106029625544,0.6469374473808035,0.29030228748044307,0.6003528707128026,0.30411462617627616,0.8511948095627846,0.35197833291743064,0.621698279565977,0.4745945357109502,0.4164426660149462,0.5427084642106971,0.5543773091352999,0.5210154792630256,0.4462774389175736,0.3411369005539118,0.7771168363273624,0.9425072715948377,0.4164426660149462,0.29030228748044307,0.3759106029625544,0.48635646426271995,0.6248880190321261,0.39136888653561114,0.5706513210590537,0.4745945357109502,0.5843847207388347,0.5543773091352999,0.3759106029625544,0.43659684442394686,0.8892797207301599,0.9549365412186107,0.6102404333014744,0.5425209258791265,0.5543773091352999,0.4852532769600578,0.3323680302755193,0.20170247996556362,0.5843847207388347,0.3143408204899028,0.700450616976183,0.3759106029625544,0.3915488947698728,0.7347763886125922,0.3759106029625544,0.6497342621623281,0.4745945357109502,0.6740835236729771,0.35197833291743064,0.893801615948762,0.45813684637998325,0.7661347592355561,0.35197833291743064,0.5287085547287195,0.6248880190321261,0.9841913805559015,0.8927066864084404,0.23038487637750274,0.26180831571416435,0.3264318421542522,0.3143408204899028,0.5002367895525117,0.8510828310614775,0.45813684637998325,0.3143408204899028,0.4951749556048154,0.3915488947698728,0.6358668572132666,0.7141407847979061,0.6741505469542038,0.48635646426271995,0.3143408204899028,0.3915488947698728,0.20170247996556362,0.5004257000569705,0.7321205030113196,0.3759106029625544,0.45794926601421826,0.20170247996556362,0.7505226317021343,0.5543773091352999,0.4164426660149462,0.7951848064298161,0.4164426660149462,0.45813684637998325,0.4048561540339701,0.5957821860201733,0.7347169282972855,0.5427084642106971,0.7875486705641241,0.9007719535119396,0.680814089115687,0.48845840190677786,0.23038487637750274,0.7126364204322431,0.3143408204899028,0.5543773091352999,0.3143408204899028,0.4462774389175736,0.39136888653561114,0.43659684442394686,0.663715534886221,0.3143408204899028,0.21079287805534513,0.5543773091352999,0.5957821860201733,0.7870514245024637,0.700450616976183,0.6402579682950915,0.4164426660149462,0.5543773091352999,0.5543773091352999,0.5957821860201733,0.8048469771559501,0.6497342621623281,0.4048561540339701,0.29030228748044307,0.5287085547287195,0.7438573346115472,0.5427084642106971,0.38404575344725195,0.26180831571416435,0.5004257000569705,0.45794926601421826,0.5004257000569705,0.3759106029625544,0.5004257000569705,0.8451668992855037,0.795449039351403,0.48635646426271995,0.7347763886125922,0.4164426660149462,0.31785860690320744,0.3264318421542522,0.662119431512202,0.3759106029625544,0.4048561540339701,0.8409961996904849,0.7664800733161741,0.20170247996556362,0.9018090022157202,0.6248880190321261,0.5543773091352999,0.6500341716804694,0.8905805391624504,0.3264318421542522,0.6438053937145607,0.8892797207301599,0.5002367895525117,0.9149305186435555,0.45813684637998325,0.5957821860201733,0.6248880190321261,0.3759106029625544,0.3143408204899028,0.45794926601421826,0.5004257000569705,0.3759106029625544,0.663715534886221,0.5706513210590537,0.5427084642106971,0.4164426660149462,0.6248880190321261,0.5374913925862895,0.3759106029625544,0.3759106029625544,0.5004257000569705,0.3759106029625544,0.3647469354291417,0.5842011792183065,0.35569881435023265,0.23741994961908533,0.23038487637750274,0.6497342621623281,0.3759106029625544,0.793229743890763,0.3143408204899028,0.45813684637998325,0.43259833248462026,0.3647469354291417,0.9766097215151034,0.795449039351403,0.5543773091352999,0.663715534886221,0.4852532769600578,0.3759106029625544,0.3143408204899028,0.5135601380290966,0.20170247996556362,0.9342429530223967,0.7474633789818859,0.7664800733161741,0.35197833291743064,0.5543773091352999,0.5002367895525117,0.23741994961908533,0.45813684637998325,0.3143408204899028,0.7347763886125922,0.29587005746600703,0.9078983940213622,0.5427084642106971,0.48845840190677786,0.7253417922695146,0.7028544606101891,0.6960251866536413,0.3915488947698728,0.7853941895629196,0.7347169282972855,0.4164426660149462,0.3264318421542522,0.5590696814052099,0.7013125198135813,0.5427084642106971,0.6590115926291145,0.4164426660149462,0.39543241117524097,0.45813684637998325,0.663715534886221,0.4164426660149462,0.9149305186435555,0.9710552541757436,0.2822802782129798,0.5843847207388347,0.48635646426271995,0.23741994961908533,0.5427084642106971,0.48845840190677786,0.39543241117524097,0.5543773091352999,0.3759106029625544,0.18396659146168357,0.7920103377087886,0.5427084642106971,0.7748082017503882,0.23741994961908533,0.5957821860201733,0.7174511180052746,0.48635646426271995,0.45794926601421826,0.6818539415827617,0.3759106029625544,0.43259833248462026,0.3759106029625544,0.7578015097233142,0.43259833248462026,0.45813684637998325,0.5957821860201733,0.4431093405663866,0.5543773091352999,0.3143408204899028,0.35197833291743064,0.39543241117524097,0.5989762333580281,0.43659684442394686,0.3143408204899028,0.6510381701807133,0.5706513210590537,0.4048561540339701,0.6497342621623281,0.831951697477374,0.7685291427057662,0.5543773091352999,0.8216604624230557,0.4745945357109502,0.5004257000569705,0.5167645300597555,0.6248880190321261,0.4731648508370179,0.5853829029551493,0.5004257000569705,0.7347763886125922,0.5957821860201733,0.31785860690320744,0.45794926601421826,0.48635646426271995,0.5427084642106971,0.4745945357109502,0.5002367895525117,0.8152705149411787,0.4164426660149462,0.6248880190321261,0.9166778069478385,0.48635646426271995,0.29587005746600703,0.35197833291743064,0.35989423170096047,0.6116034763602779,0.5427084642106971,0.7129687083796628,0.3264318421542522,0.45813684637998325,0.9007719535119396,0.26180831571416435,0.3143408204899028,0.3759106029625544,0.4164426660149462,0.4164426660149462,0.5543773091352999,0.766103658409628,0.45794926601421826,0.3759106029625544,0.5543773091352999,0.8241946312182469,0.5427084642106971,0.6402579682950915,0.8282920674890459,0.501783018237705,0.4164426660149462,0.8300007793731762,0.5543773091352999,0.7296279506209921,0.5871710247532903,0.6389361191808908,0.6402579682950915,0.6358668572132666,0.45813684637998325,0.3143408204899028,0.700450616976183,0.4164426660149462,0.29030228748044307,0.5427084642106971,0.3759106029625544,0.5315689201323706,0.5169532258771148,0.5989762333580281,0.8030095563882461,0.3915488947698728,0.45813684637998325,0.24922928237079778,0.23741994961908533,0.26180831571416435,0.5004257000569705,0.5004257000569705,0.2220056102994066,0.45813684637998325,0.35989423170096047,0.3759106029625544,0.2822802782129798,0.21079287805534513,0.849621563396588,0.4208865212510132,0.6385215124238496,0.24922928237079778,0.7347763886125922,0.5427084642106971,0.3759106029625544,0.6637729721823633,0.3143408204899028,0.3759106029625544,0.5425209258791265,0.21079287805534513,0.5543773091352999,0.6248880190321261,0.7347763886125922,0.4786537619638718,0.4164426660149462,0.4164426660149462],\"xaxis\":\"x\",\"xbins\":{\"end\":0.9944580542098257,\"size\":0.1,\"start\":0.1464572907359755},\"yaxis\":\"y\",\"type\":\"histogram\"},{\"autobinx\":false,\"histnorm\":\"probability density\",\"legendgroup\":\"white\",\"marker\":{\"color\":\"rgb(180, 180, 180)\"},\"name\":\"white\",\"opacity\":0.7,\"x\":[0.28420938315647803,0.7193733708506654,0.4776350002478254,0.28420938315647803,0.706620234383829,0.4645419234352179,0.3199224739418101,0.5068689593543819,0.2540832079595054,0.28420938315647803,0.1795408727053438,0.2233064883121045,0.12938185576890282,0.28420938315647803,0.1795408727053438,0.28420938315647803,0.3428282390704942,0.28420938315647803,0.1795408727053438,0.38197647501647986,0.1795408727053438,0.28420938315647803,0.42271957330044907,0.3428282390704942,0.28420938315647803,0.3321241960052024,0.3321241960052024,0.5787951574462294,0.753367285820834,0.20588461940462774,0.26159596325717277,0.4122601883661702,0.4850888930739524,0.23498666467392698,0.5078965399241201,0.36162752471152204,0.38197647501647986,0.2233064883121045,0.4645419234352179,0.3199224739418101,0.3578794759960046,0.28420938315647803,0.3428282390704942,0.46435396794094547,0.3428282390704942,0.35770584670933203,0.39770630350634195,0.21237800149210917,0.3428282390704942,0.3428282390704942,0.26159596325717277,0.3428282390704942,0.3199224739418101,0.6930702642515109,0.3428282390704942,0.28420938315647803,0.1795408727053438,0.3428282390704942,0.24211805154563473,0.5372181630716041,0.7082092281420589,0.6204571225741928,0.3578794759960046,0.43893558812602057,0.12938185576890282,0.6065206972051236,0.6019737854706199,0.2233064883121045,0.26682016052069985,0.21237800149210917,0.45386130145344156,0.2451165329861277,0.1795408727053438,0.41108144487664033,0.1795408727053438,0.3199224739418101,0.518641185629114,0.5607355238832266,0.4225351863830503,0.8259977737664174,0.42271957330044907,0.1795408727053438,0.23498666467392698,0.28420938315647803,0.878138390164707,0.21237800149210917,0.5490977550236662,0.2233064883121045,0.26159596325717277,0.26682016052069985,0.5694076011312939,0.4810254461452656,0.28420938315647803,0.66908461300583,0.4505716451075902,0.6305319265996174,0.5501154427180117,0.26159596325717277,0.20588461940462774,0.5016184915380354,0.3199224739418101,0.3428282390704942,0.26159596325717277,0.2451165329861277,0.46435396794094547,0.21237800149210917,0.5066800834465688,0.6461729001843279,0.6163531778652434,0.42271957330044907,0.28420938315647803,0.3199224739418101,0.45265521953412113,0.2233064883121045,0.26159596325717277,0.24211805154563473,0.6305319265996174,0.518641185629114,0.38197647501647986,0.7014507471128334,0.23498666467392698,0.3428282390704942,0.21237800149210917,0.35770584670933203,0.6694439016956054,0.3428282390704942,0.1795408727053438,0.42271957330044907,0.4645419234352179,0.12938185576890282,0.3578794759960046,0.9030520701242322,0.3012678403479987,0.7397688885939607,0.26159596325717277,0.37073967855861883,0.5110264883561273,0.4505716451075902,0.1795408727053438,0.5790066394238627,0.2233064883121045,0.14970878021982337,0.3428282390704942,0.38197647501647986,0.4505716451075902,0.4850888930739524,0.36162752471152204,0.3321241960052024,0.12938185576890282,0.3199224739418101,0.1795408727053438,0.7180613294424228,0.3234732558636739,0.3199224739418101,0.28420938315647803,0.4505716451075902,0.3428282390704942,0.2233064883121045,0.4645419234352179,0.21237800149210917,0.1795408727053438,0.2778239529526488,0.43893558812602057,0.47314100122341207,0.14970878021982337,0.518641185629114,0.21237800149210917,0.5068689593543819,0.2875313740504255,0.5607355238832266,0.6196929679888027,0.5635619662724761,0.6305319265996174,0.38197647501647986,0.5906309443362258,0.3428282390704942,0.28420938315647803,0.43893558812602057,0.5233863420816545,0.45932151616619615,0.2533734774803609,0.3428282390704942,0.6555083093729078,0.12938185576890282,0.45932151616619615,0.38197647501647986,0.1633549162366508,0.12938185576890282,0.3428282390704942,0.20588461940462774,0.46435396794094547,0.26159596325717277,0.42271957330044907,0.4505716451075902,0.1633549162366508,0.4645419234352179,0.5635619662724761,0.3428282390704942,0.38197647501647986,0.3199224739418101,0.7394562885368408,0.23498666467392698,0.39770630350634195,0.26682016052069985,0.590448228064261,0.28420938315647803,0.6019737854706199,0.3428282390704942,0.2875313740504255,0.7090580795080883,0.4406084381832828,0.518641185629114,0.3199224739418101,0.5490977550236662,0.6019737854706199,0.18786753350111993,0.3234732558636739,0.2540832079595054,0.28420938315647803,0.3428282390704942,0.6694439016956054,0.5068689593543819,0.2540832079595054,0.2540832079595054,0.9100311112025136,0.21237800149210917,0.3428282390704942,0.3234732558636739,0.6309099831003125,0.4505716451075902,0.28420938315647803,0.35770584670933203,0.5068689593543819,0.6019737854706199,0.2233064883121045,0.46435396794094547,0.4927972661588852,0.3234732558636739,0.518641185629114,0.38197647501647986,0.2540832079595054,0.2233064883121045,0.6163531778652434,0.3428282390704942,0.3428282390704942,0.5372181630716041,0.5384279156205819,0.5068689593543819,0.6176361876165078,0.24211805154563473,0.7522975704695184,0.20588461940462774,0.3234732558636739,0.1795408727053438,0.24211805154563473,0.4795940721184674,0.3428282390704942,0.4645419234352179,0.38197647501647986,0.9574616333888937,0.38197647501647986,0.26159596325717277,0.38197647501647986,0.7710617339861463,0.39770630350634195,0.3428282390704942,0.35770584670933203,0.6134483968405988,0.3578794759960046,0.23498666467392698,0.21237800149210917,0.38197647501647986,0.3428282390704942,0.2233064883121045,0.518641185629114,0.3428282390704942,0.3578794759960046,0.3428282390704942,0.3321241960052024,0.6309099831003125,0.1795408727053438,0.42271957330044907,0.1795408727053438,0.7054300414444673,0.4225351863830503,0.4225351863830503,0.3199224739418101,0.5607355238832266,0.5068689593543819,0.1795408727053438,0.3428282390704942,0.2540832079595054,0.5607355238832266,0.38197647501647986,0.8091144159882858,0.21511271041010913,0.20588461940462774,0.1795408727053438,0.35064970560322,0.28420938315647803,0.28420938315647803,0.35770584670933203,0.3428282390704942,0.3428282390704942,0.5694076011312939,0.3234732558636739,0.28420938315647803,0.3234732558636739,0.28420938315647803,0.8419212320493644,0.4850888930739524,0.38197647501647986,0.3428282390704942,0.8576475432446737,0.28420938315647803,0.21237800149210917,0.6694439016956054,0.23498666467392698,0.6826707287473299,0.12938185576890282,0.39770630350634195,0.42271957330044907,0.2233064883121045,0.12938185576890282,0.518641185629114,0.14970878021982337,0.4225351863830503,0.2540832079595054,0.14970878021982337,0.5638180189191812,0.28420938315647803,0.12938185576890282,0.3199224739418101,0.38197647501647986,0.17259612565829519,0.21237800149210917,0.4387495038180955,0.5233863420816545,0.3428282390704942,0.5068689593543819,0.7397688885939607,0.3428282390704942,0.24211805154563473,0.42271957330044907,0.20588461940462774,0.1795408727053438,0.4645419234352179,0.3234732558636739,0.2233064883121045,0.41108144487664033,0.24211805154563473,0.7226466426269186,0.2540832079595054,0.39770630350634195,0.21237800149210917,0.1795408727053438,0.8070549247628779,0.46435396794094547,0.3428282390704942,0.7710617339861463,0.518641185629114,0.18786753350111993,0.1795408727053438,0.28420938315647803,0.8688565531758288,0.4505716451075902,0.17259612565829519,0.4645419234352179,0.28420938315647803,0.2233064883121045,0.4850888930739524,0.3428282390704942,0.38197647501647986,0.9030520701242322,0.42552425468226823,0.7193733708506654,0.3428282390704942,0.2233064883121045,0.8871603371253537,0.4927972661588852,0.518641185629114,0.38197647501647986,0.2540832079595054,0.28420938315647803,0.6927898053082772,0.5755542743761601,0.21237800149210917,0.26159596325717277,0.1795408727053438,0.1633549162366508,0.38197647501647986,0.2233064883121045,0.3578794759960046,0.20588461940462774,0.28420938315647803,0.1633549162366508,0.7487373506301954,0.3578794759960046,0.20588461940462774,0.3428282390704942,0.3428282390704942,0.44294694806585533,0.12938185576890282,0.43893558812602057,0.5607355238832266,0.1795408727053438,0.3428282390704942,0.38197647501647986,0.39770630350634195,0.42271957330044907,0.3428282390704942,0.3199224739418101,0.28420938315647803,0.8070549247628779,0.4645419234352179,0.3224260507885531,0.705493434824517,0.1795408727053438,0.3130856243572208,0.2540832079595054,0.2233064883121045,0.3578794759960046,0.2540832079595054,0.4645419234352179,0.28420938315647803,0.3199224739418101,0.2540832079595054,0.2875313740504255,0.37073967855861883,0.26159596325717277,0.28420938315647803,0.12938185576890282,0.6103973933324008,0.2233064883121045,0.5068689593543819,0.6418135971715337,0.1795408727053438,0.3428282390704942,0.42271957330044907,0.43116786771327736,0.3199224739418101,0.23498666467392698,0.5068689593543819,0.6134483968405988,0.6103973933324008,0.26682016052069985,0.38197647501647986,0.2540832079595054,0.518641185629114,0.4645419234352179,0.28420938315647803,0.4645419234352179,0.44294694806585533,0.6177690056579341,0.2745708945568436,0.4850888930739524,0.3578794759960046,0.523197841446549,0.23498666467392698,0.28420938315647803,0.38197647501647986,0.23498666467392698,0.3578794759960046,0.42271957330044907,0.4225351863830503,0.3199224739418101,0.6163531778652434,0.4505716451075902,0.3381119380032577,0.38197647501647986,0.2233064883121045,0.20588461940462774,0.518641185629114,0.4225351863830503,0.3428282390704942,0.12938185576890282,0.4645419234352179,0.28420938315647803,0.42271957330044907,0.45386130145344156,0.3428282390704942,0.39770630350634195,0.8254060946440318,0.2778239529526488,0.3428282390704942,0.6461729001843279,0.6321733634274098,0.8616778032342723,0.3428282390704942,0.1795408727053438,0.38197647501647986,0.3428282390704942,0.2745708945568436,0.21237800149210917,0.5068689593543819,0.42271957330044907,0.4645419234352179,0.365853163017935,0.45265521953412113,0.4505716451075902,0.3428282390704942,0.28420938315647803,0.2540832079595054,0.49490021955961017,0.21237800149210917,0.42271957330044907,0.28420938315647803,0.28420938315647803,0.36162752471152204,0.5906309443362258,0.5372181630716041,0.4645419234352179,0.2875313740504255,0.5607355238832266,0.26682016052069985,0.2233064883121045,0.7178856652852206,0.1795408727053438,0.6260057316342559,0.3578794759960046,0.28420938315647803,0.6019737854706199,0.2233064883121045,0.2540832079595054,0.1795408727053438,0.3199224739418101,0.7058305729293504,0.1795408727053438,0.5068689593543819,0.14970878021982337,0.1795408727053438,0.7993507114189184,0.6019006830951483,0.4225351863830503,0.3428282390704942,0.20588461940462774,0.2745708945568436,0.3428282390704942,0.518641185629114,0.3428282390704942,0.39770630350634195,0.38197647501647986,0.5490977550236662,0.5068689593543819,0.4505716451075902,0.42271957330044907,0.7394562885368408,0.3234732558636739,0.21237800149210917,0.52744394920972,0.4850888930739524,0.4225351863830503,0.7397688885939607,0.23498666467392698,0.26682016052069985,0.28420938315647803,0.1795408727053438,0.2956411421832244,0.20588461940462774,0.549921465151815,0.42271957330044907,0.3428282390704942,0.28420938315647803,0.42271957330044907,0.3428282390704942,0.7310849223556773,0.38197647501647986,0.3321241960052024,0.26159596325717277,0.42271957330044907,0.2956411421832244,0.28420938315647803,0.2233064883121045,0.3199224739418101,0.38197647501647986,0.1795408727053438,0.2540832079595054,0.20588461940462774,0.3321241960052024,0.3428282390704942,0.2875313740504255,0.38197647501647986,0.28420938315647803,0.12938185576890282,0.5490977550236662,0.28420938315647803,0.21237800149210917,0.861976336130942,0.38197647501647986,0.7278528136992017,0.1633549162366508,0.518641185629114,0.14970878021982337,0.35770584670933203,0.44294694806585533,0.518641185629114,0.3012678403479987,0.35770584670933203,0.35770584670933203,0.5501154427180117,0.26159596325717277,0.42271957330044907,0.6309099831003125,0.1795408727053438,0.42271957330044907,0.6663629674043343,0.3428282390704942,0.2745708945568436,0.7276521108087082,0.20588461940462774,0.24211805154563473,0.44294694806585533,0.40161058085446955,0.3199224739418101,0.18786753350111993,0.5906309443362258,0.21237800149210917,0.518641185629114,0.20588461940462774,0.12938185576890282,0.3321241960052024,0.21237800149210917,0.12938185576890282,0.12938185576890282,0.5769545276496302,0.518641185629114,0.4505716451075902,0.42271957330044907,0.2778239529526488,0.37073967855861883,0.2233064883121045,0.2875313740504255,0.5533998456288494,0.12938185576890282,0.5607355238832266,0.5607355238832266,0.5694076011312939,0.39770630350634195,0.43893558812602057,0.12938185576890282,0.6418135971715337,0.21237800149210917,0.3578794759960046,0.28420938315647803,0.42271957330044907,0.518641185629114,0.5233863420816545,0.28420938315647803,0.3428282390704942,0.7710617339861463,0.21237800149210917,0.1795408727053438,0.518641185629114,0.24211805154563473,0.5490977550236662,0.28420938315647803,0.2233064883121045,0.26159596325717277,0.5607355238832266,0.20588461940462774,0.4645419234352179,0.5490977550236662,0.5607355238832266,0.3428282390704942,0.1795408727053438,0.28420938315647803,0.3428282390704942,0.3428282390704942,0.1633549162366508,0.38197647501647986,0.2540832079595054,0.18786753350111993,0.12938185576890282,0.3428282390704942,0.24211805154563473,0.7226466426269186,0.7302157911876951,0.3199224739418101,0.46765860011050964,0.2540832079595054,0.5068689593543819,0.20588461940462774,0.1633549162366508,0.6019737854706199,0.18786753350111993,0.24211805154563473,0.3428282390704942,0.2875313740504255,0.4505716451075902,0.1795408727053438,0.35770584670933203,0.40161058085446955,0.28420938315647803,0.21237800149210917,0.23498666467392698,0.2540832079595054,0.42271957330044907,0.14970878021982337,0.38197647501647986,0.3199224739418101,0.2745708945568436,0.8254060946440318,0.42271957330044907,0.5906309443362258,0.28420938315647803,0.2233064883121045,0.6103973933324008,0.1633549162366508,0.6279776332788098,0.3428282390704942,0.3199224739418101,0.4645419234352179,0.6234019943178877,0.3199224739418101,0.1795408727053438,0.38197647501647986,0.2956411421832244,0.1795408727053438,0.4645419234352179,0.1795408727053438,0.38197647501647986,0.3199224739418101,0.8951505590524094,0.3428282390704942,0.28420938315647803,0.28420938315647803,0.3578794759960046,0.6719800458199605,0.7996109242679953,0.24211805154563473,0.41760261166342344,0.5068689593543819,0.28420938315647803,0.6305319265996174,0.38197647501647986,0.3428282390704942,0.3428282390704942,0.28420938315647803,0.38197647501647986,0.21237800149210917,0.38197647501647986,0.39770630350634195,0.6827925584226566,0.4850888930739524,0.28420938315647803,0.4387495038180955,0.39770630350634195,0.26159596325717277,0.5906309443362258,0.3428282390704942,0.21511271041010913,0.4810254461452656,0.1795408727053438,0.5068689593543819,0.4645419234352179,0.6064478839652923,0.3578794759960046,0.860991180044759,0.20588461940462774,0.518641185629114,0.3428282390704942,0.52744394920972,0.38197647501647986,0.3199224739418101,0.3428282390704942,0.6019737854706199,0.5016184915380354,0.2233064883121045,0.3428282390704942,0.7192208000205262,0.4645419234352179,0.5607355238832266,0.2233064883121045,0.28420938315647803,0.1795408727053438,0.2540832079595054,0.5489106590451979,0.2540832079595054,0.3428282390704942,0.3199224739418101,0.2233064883121045,0.2956411421832244,0.26159596325717277,0.37073967855861883,0.26159596325717277,0.2875313740504255,0.5501154427180117,0.518641185629114,0.3428282390704942,0.3234732558636739,0.46435396794094547,0.5490977550236662,0.2540832079595054,0.1795408727053438,0.28420938315647803,0.4927972661588852,0.28420938315647803,0.2233064883121045,0.518641185629114,0.2233064883121045,0.1795408727053438,0.5490977550236662,0.42271957330044907,0.42271957330044907,0.21237800149210917,0.23498666467392698,0.28420938315647803,0.26159596325717277,0.1795408727053438,0.1795408727053438,0.3578794759960046,0.40161058085446955,0.2233064883121045,0.23498666467392698,0.28420938315647803,0.38197647501647986,0.5490977550236662,0.4505716451075902,0.52744394920972,0.28420938315647803,0.6587645755650716,0.3083723201273332,0.36076268090618,0.1795408727053438,0.4795940721184674,0.4505716451075902,0.46435396794094547,0.3428282390704942,0.2875313740504255,0.3428282390704942,0.38197647501647986,0.3234732558636739,0.605151332440566,0.3428282390704942,0.2540832079595054,0.4810254461452656,0.84850985425307,0.1795408727053438,0.5607355238832266,0.52744394920972,0.21237800149210917,0.2875313740504255,0.5906309443362258,0.2956411421832244,0.6309099831003125,0.3428282390704942,0.17259612565829519,0.5490977550236662,0.3578794759960046,0.2956411421832244,0.42271957330044907,0.12938185576890282,0.26159596325717277,0.26159596325717277,0.52744394920972,0.12938185576890282,0.23498666467392698,0.24211805154563473,0.8721311040906006,0.8254060946440318,0.5233863420816545,0.3304847652417279,0.28420938315647803,0.3428282390704942,0.3321241960052024,0.28420938315647803,0.42271957330044907,0.38197647501647986,0.3578794759960046,0.20588461940462774,0.12938185576890282,0.4927972661588852,0.3274817703046215,0.6019737854706199,0.1795408727053438,0.1795408727053438,0.4645419234352179,0.1795408727053438,0.1795408727053438,0.8223585336571414,0.28420938315647803,0.3428282390704942,0.28420938315647803,0.6461729001843279,0.3199224739418101,0.4690864612936364,0.38197647501647986,0.42271957330044907,0.1795408727053438,0.4225351863830503,0.5758762386824077,0.2745708945568436,0.518641185629114,0.3428282390704942,0.39770630350634195,0.4927972661588852,0.28420938315647803,0.2875313740504255,0.37581658748287605,0.518641185629114,0.3199224739418101,0.28420938315647803,0.12938185576890282,0.2956411421832244,0.518641185629114,0.3578794759960046,0.19816699960247383,0.2540832079595054,0.4850888930739524,0.26159596325717277,0.5068689593543819,0.1795408727053438,0.3428282390704942,0.5490977550236662,0.28420938315647803,0.35770584670933203,0.518641185629114,0.3428282390704942,0.28420938315647803,0.3321241960052024,0.4505716451075902,0.518641185629114,0.21237800149210917,0.5916246082772862,0.7710617339861463,0.7058305729293504,0.8710285112332913,0.5607355238832266,0.2233064883121045,0.39770630350634195,0.4645419234352179,0.5769545276496302,0.5490977550236662,0.41108144487664033,0.36162752471152204,0.42271957330044907,0.3199224739418101,0.2875313740504255,0.42271957330044907,0.2745708945568436,0.2875313740504255,0.3428282390704942,0.3199224739418101,0.52744394920972,0.2233064883121045,0.9707120397242254,0.3428282390704942,0.42271957330044907,0.5490977550236662,0.4925001083876158,0.6461729001843279,0.5068689593543819,0.1795408727053438,0.42271957330044907,0.38197647501647986,0.1795408727053438,0.1795408727053438,0.7213944447208748,0.5758762386824077,0.2540832079595054,0.3428282390704942,0.28420938315647803,0.6418135971715337,0.5490977550236662,0.38197647501647986,0.2956411421832244,0.3428282390704942,0.518641185629114,0.1633549162366508,0.3428282390704942,0.1795408727053438,0.26682016052069985,0.5068689593543819,0.20588461940462774,0.4505716451075902,0.518641185629114,0.518641185629114,0.38197647501647986,0.43752387082632926,0.2233064883121045,0.1795408727053438,0.38493743478479553,0.3012678403479987,0.3199224739418101,0.4225351863830503,0.3095966868487165,0.1795408727053438,0.2233064883121045,0.40161058085446955,0.28420938315647803,0.18786753350111993,0.3975253139572648,0.21237800149210917,0.291286263040927,0.2540832079595054,0.3578794759960046,0.2956411421832244,0.26159596325717277,0.3199224739418101,0.39770630350634195,0.17259612565829519,0.9037669503089575,0.12938185576890282,0.6957926055038539,0.1795408727053438,0.21237800149210917,0.4122601883661702,0.12938185576890282,0.38197647501647986,0.43893558812602057,0.2875313740504255,0.1795408727053438,0.3428282390704942,0.38197647501647986,0.35770584670933203,0.3578794759960046,0.4810254461452656,0.2233064883121045,0.518641185629114,0.24211805154563473,0.518641185629114,0.3199224739418101,0.518641185629114,0.42271957330044907,0.27880148461602156,0.26159596325717277,0.8501127240733294,0.4645419234352179,0.5855430746152618,0.5607355238832266,0.28420938315647803,0.9560327849747455,0.21237800149210917,0.7058305729293504,0.518641185629114,0.21237800149210917,0.5068689593543819,0.2956411421832244,0.12938185576890282,0.6418135971715337,0.2233064883121045,0.3428282390704942,0.5078965399241201,0.5079608611461444,0.518641185629114,0.5457320467855268,0.5372181630716041,0.3428282390704942,0.3234732558636739,0.26159596325717277,0.4645419234352179,0.21511271041010913,0.42271957330044907,0.14970878021982337,0.5490977550236662,0.2233064883121045,0.4225351863830503,0.6461729001843279,0.5906309443362258,0.2233064883121045,0.7553174315905231,0.5906309443362258,0.6555772007824315,0.38197647501647986,0.28420938315647803,0.38197647501647986,0.518641185629114,0.6989007614516257,0.3428282390704942,0.3381119380032577,0.5068689593543819,0.52744394920972,0.5906309443362258,0.38197647501647986,0.5947556350047069,0.6163531778652434,0.1633549162366508,0.3578794759960046,0.620839288914415,0.28420938315647803,0.21237800149210917,0.2875313740504255,0.2875313740504255,0.6498844426187464,0.5755542743761601,0.2540832079595054,0.5219556921343949,0.518641185629114,0.2233064883121045,0.38197647501647986,0.42271957330044907,0.6163531778652434,0.3012678403479987,0.6305319265996174,0.12938185576890282,0.2233064883121045,0.37073967855861883,0.4658926796633006,0.3428282390704942,0.3428282390704942,0.21237800149210917,0.3428282390704942,0.28420938315647803,0.18786753350111993,0.28420938315647803,0.26159596325717277,0.38197647501647986,0.21237800149210917,0.1795408727053438,0.1795408727053438,0.7487373506301954,0.3578794759960046,0.26159596325717277,0.21237800149210917,0.1795408727053438,0.518641185629114,0.5233863420816545,0.518641185629114,0.492785333407719,0.38197647501647986,0.1795408727053438,0.518641185629114,0.3428282390704942,0.24211805154563473,0.21237800149210917,0.20588461940462774,0.3428282390704942,0.35770584670933203,0.38197647501647986,0.1795408727053438,0.12938185576890282,0.21237800149210917,0.12938185576890282,0.4225351863830503,0.3428282390704942,0.43893558812602057,0.5694076011312939,0.518641185629114,0.7058305729293504,0.3578794759960046,0.7553174315905231,0.26159596325717277,0.518641185629114,0.12938185576890282,0.3321241960052024,0.4225351863830503,0.2233064883121045,0.518641185629114,0.518641185629114,0.1795408727053438,0.38197647501647986,0.3012678403479987,0.3428282390704942,0.12938185576890282,0.39770630350634195,0.21237800149210917,0.7686413104368931,0.35770584670933203,0.5490977550236662,0.4927972661588852,0.3578794759960046,0.5490977550236662,0.2540832079595054,0.34388197298532763,0.6418135971715337,0.28420938315647803,0.2540832079595054,0.3199224739418101,0.3199224739418101,0.49490021955961017,0.2233064883121045,0.5873422699247166,0.43893558812602057,0.5078965399241201,0.38197647501647986,0.3428282390704942,0.5490977550236662,0.2540832079595054,0.5068689593543819,0.2233064883121045,0.5490977550236662,0.37073967855861883,0.3199224739418101,0.39770630350634195,0.45265521953412113,0.2956411421832244,0.5233863420816545,0.12938185576890282,0.43893558812602057,0.5066800834465688,0.5906309443362258,0.2233064883121045,0.4225351863830503,0.36162752471152204,0.3234732558636739,0.22648928346851666,0.2540832079595054,0.6587645755650716,0.5490977550236662,0.5490977550236662,0.4505716451075902,0.21237800149210917,0.6461729001843279,0.26159596325717277,0.3321241960052024,0.1633549162366508,0.21237800149210917,0.42271957330044907,0.28420938315647803,0.3234732558636739,0.3578794759960046,0.26682016052069985,0.4505716451075902,0.4505716451075902,0.8117860245268478,0.49490021955961017,0.20588461940462774,0.39016083066884183,0.5607355238832266,0.21237800149210917,0.518641185629114,0.20588461940462774,0.2875313740504255,0.5068689593543819,0.2956411421832244,0.5490977550236662,0.4505716451075902,0.2540832079595054,0.4505716451075902,0.48381651598677583,0.2956411421832244,0.38197647501647986,0.7710617339861463,0.42271957330044907,0.28420938315647803,0.9872399650833215,0.9030520701242322,0.24211805154563473,0.28420938315647803,0.5769545276496302,0.21237800149210917,0.12938185576890282,0.34565545947081977,0.3199224739418101,0.12938185576890282,0.28420938315647803,0.5755542743761601,0.2540832079595054,0.7419734385998242,0.28420938315647803,0.38197647501647986,0.6134483968405988,0.12938185576890282,0.38197647501647986,0.38197647501647986,0.18786753350111993,0.20588461940462774,0.1795408727053438,0.3095966868487165,0.1795408727053438,0.518641185629114,0.2233064883121045,0.42271957330044907,0.6163531778652434,0.4927972661588852,0.23498666467392698,0.2875313740504255,0.7058305729293504,0.518641185629114,0.28420938315647803,0.6797205039040521,0.28420938315647803,0.23498666467392698,0.6032739306591627,0.3199224739418101,0.23498666467392698,0.5351258992000203,0.26159596325717277,0.5654134291641658,0.4810254461452656,0.34695359705538986,0.3321241960052024,0.5154972448842883,0.3428282390704942,0.12938185576890282,0.2875313740504255,0.7710617339861463,0.2540832079595054,0.2540832079595054,0.4645419234352179,0.39770630350634195,0.2956411421832244,0.2233064883121045,0.2233064883121045,0.2575592002572981,0.4505716451075902,0.3428282390704942,0.2233064883121045,0.7710617339861463,0.39770630350634195,0.44294694806585533,0.3428282390704942,0.26159596325717277,0.3428282390704942,0.28420938315647803,0.3428282390704942,0.5769545276496302,0.21511271041010913,0.2233064883121045,0.28420938315647803,0.2233064883121045,0.2233064883121045,0.3381119380032577,0.3321241960052024,0.3199224739418101,0.3012678403479987,0.6019737854706199,0.26159596325717277,0.26682016052069985,0.3578794759960046,0.38197647501647986,0.28420938315647803,0.2540832079595054,0.45265521953412113,0.3428282390704942,0.24211805154563473,0.2540832079595054,0.4810254461452656,0.38197647501647986,0.5490222167085298,0.42271957330044907,0.26159596325717277,0.2233064883121045,0.20588461940462774,0.35669182774153413,0.37073967855861883,0.3428282390704942,0.3428282390704942,0.2875313740504255,0.2875313740504255,0.5489106590451979,0.5068689593543819,0.4225351863830503,0.42271957330044907,0.5372181630716041,0.861976336130942,0.2233064883121045,0.3578794759960046,0.2233064883121045,0.2540832079595054,0.28420938315647803,0.3428282390704942,0.1795408727053438,0.6568708446213332,0.26159596325717277,0.6019737854706199,0.38197647501647986,0.5016184915380354,0.44294694806585533,0.37073967855861883,0.3428282390704942,0.26682016052069985,0.12938185576890282,0.1795408727053438,0.7252143328260738,0.5438923150538475,0.3428282390704942,0.4225351863830503,0.34695359705538986,0.36162752471152204,0.21237800149210917,0.1795408727053438,0.4810254461452656,0.12938185576890282,0.5068689593543819,0.44294694806585533,0.1633549162366508,0.5536142445464581,0.42271957330044907,0.3381119380032577,0.4645419234352179,0.21237800149210917,0.5490977550236662,0.5490977550236662,0.5490977550236662,0.5873422699247166,0.66908461300583,0.5068689593543819,0.26159596325717277,0.20588461940462774,0.24211805154563473,0.38197647501647986,0.7155188799159248,0.3578794759960046,0.5078965399241201,0.6019737854706199,0.3321241960052024,0.24211805154563473,0.38197647501647986,0.3428282390704942,0.6032739306591627,0.5351258992000203,0.4505716451075902,0.49490021955961017,0.4850888930739524,0.3578794759960046,0.12938185576890282,0.38197647501647986,0.3428282390704942,0.39770630350634195,0.5490977550236662,0.2540832079595054,0.2875313740504255,0.4810254461452656,0.20588461940462774,0.8369655571452032,0.518641185629114,0.21237800149210917,0.28420938315647803,0.42271957330044907,0.3234732558636739,0.1633549162366508,0.3428282390704942,0.21237800149210917,0.6019737854706199,0.35770584670933203,0.12938185576890282,0.3321241960052024,0.26159596325717277,0.6461729001843279,0.518641185629114,0.3428282390704942,0.42271957330044907,0.38197647501647986,0.9131943603423083,0.7058305729293504,0.2233064883121045,0.38197647501647986,0.3199224739418101,0.21237800149210917,0.518641185629114,0.28420938315647803,0.4536740059986361,0.4657046529744133,0.24211805154563473,0.7427929063532113,0.3234732558636739,0.3012678403479987,0.6019006830951483,0.6449895265759529,0.28420938315647803,0.2956411421832244,0.3428282390704942,0.42271957330044907,0.5607355238832266,0.7397688885939607,0.20588461940462774,0.5801925175052828,0.2875313740504255,0.7710617339861463,0.42271957330044907,0.20588461940462774,0.1795408727053438,0.12938185576890282,0.26159596325717277,0.12938185576890282,0.7129491287799697,0.38197647501647986,0.5906309443362258,0.20588461940462774,0.24211805154563473,0.3862960058455435,0.3234732558636739,0.38197647501647986,0.12938185576890282,0.37703059335747474,0.2451165329861277,0.3321241960052024,0.34695359705538986,0.26682016052069985,0.6694439016956054,0.2540832079595054,0.38197647501647986,0.21237800149210917,0.4505716451075902,0.84850985425307,0.3428282390704942,0.6309099831003125,0.21237800149210917,0.8270795977881317,0.26159596325717277,0.45265521953412113,0.35770584670933203,0.6019737854706199,0.3428282390704942,0.3428282390704942,0.8986998540556876,0.8871603371253537,0.6418135971715337,0.3199224739418101,0.21511271041010913,0.1795408727053438,0.6260057316342559,0.38197647501647986,0.5490977550236662,0.2875313740504255,0.2233064883121045,0.12938185576890282,0.2875313740504255,0.14970878021982337,0.4690864612936364,0.5490977550236662,0.3428282390704942,0.518641185629114,0.518641185629114,0.6694439016956054,0.21237800149210917,0.20588461940462774,0.3321241960052024,0.518641185629114,0.28420938315647803,0.2233064883121045,0.5490977550236662,0.2956411421832244,0.2540832079595054,0.6247983914422177,0.20588461940462774,0.45932151616619615,0.38197647501647986,0.21237800149210917,0.38197647501647986,0.3234732558636739,0.26682016052069985,0.38197647501647986,0.705493434824517,0.41108144487664033,0.6309099831003125,0.41108144487664033,0.4505716451075902,0.2233064883121045,0.38197647501647986,0.3199224739418101,0.26682016052069985,0.26159596325717277,0.5906309443362258,0.518641185629114,0.518641185629114,0.5607355238832266,0.26682016052069985,0.5490977550236662,0.5078965399241201,0.2875313740504255,0.28420938315647803,0.2233064883121045,0.1795408727053438,0.3428282390704942,0.8254060946440318,0.28420938315647803,0.41108144487664033,0.8254060946440318,0.39770630350634195,0.1795408727053438,0.7601139173236867,0.6418135971715337,0.3428282390704942,0.2540832079595054,0.2233064883121045,0.28420938315647803,0.5906309443362258,0.5490977550236662,0.518641185629114,0.4505716451075902,0.36162752471152204,0.6276696486658707,0.5490977550236662,0.20588461940462774,0.4225351863830503,0.7304467359988407,0.3234732558636739,0.3428282390704942,0.7058305729293504,0.1795408727053438,0.9551414134513706,0.1633549162366508,0.5068689593543819,0.38197647501647986,0.42271957330044907,0.3428282390704942,0.7996109242679953,0.36162752471152204,0.518641185629114,0.20588461940462774,0.21237800149210917,0.2540832079595054,0.3199224739418101,0.2875313740504255,0.3428282390704942,0.7369146857062845,0.3428282390704942,0.6309099831003125,0.6839116750757224,0.28420938315647803,0.38197647501647986,0.1795408727053438,0.4505716451075902,0.518641185629114,0.5068689593543819,0.45386130145344156,0.21237800149210917,0.43752387082632926,0.2956411421832244,0.1795408727053438,0.28420938315647803,0.38197647501647986,0.36162752471152204,0.3428282390704942,0.7155188799159248,0.3234732558636739,0.4645419234352179,0.41108144487664033,0.21237800149210917,0.18786753350111993,0.42271957330044907,0.28420938315647803,0.518641185629114,0.6204571225741928,0.2575592002572981,0.3428282390704942,0.3234732558636739,0.6417434572101709,0.21511271041010913,0.5694076011312939,0.14970878021982337,0.44294694806585533,0.37073967855861883,0.6309099831003125,0.28420938315647803,0.3199224739418101,0.3428282390704942,0.2875313740504255,0.14970878021982337,0.26159596325717277,0.2875313740504255,0.1795408727053438,0.4645419234352179,0.42271957330044907,0.38197647501647986,0.5635619662724761,0.4225351863830503],\"xaxis\":\"x\",\"xbins\":{\"end\":0.9872399650833215,\"size\":0.1,\"start\":0.12938185576890282},\"yaxis\":\"y\",\"type\":\"histogram\"},{\"legendgroup\":\"black\",\"marker\":{\"color\":\"black\"},\"mode\":\"lines\",\"name\":\"black\",\"showlegend\":false,\"x\":[0.1464572907359755,0.1481532922629232,0.14984929378987089,0.1515452953168186,0.1532412968437663,0.154937298370714,0.1566332998976617,0.1583293014246094,0.1600253029515571,0.1617213044785048,0.1634173060054525,0.1651133075324002,0.1668093090593479,0.1685053105862956,0.1702013121132433,0.171897313640191,0.1735933151671387,0.1752893166940864,0.1769853182210341,0.1786813197479818,0.1803773212749295,0.1820733228018772,0.1837693243288249,0.1854653258557726,0.1871613273827203,0.188857328909668,0.1905533304366157,0.19224933196356342,0.1939453334905111,0.1956413350174588,0.1973373365444065,0.1990333380713542,0.20072933959830191,0.2024253411252496,0.2041213426521973,0.20581734417914502,0.2075133457060927,0.2092093472330404,0.21090534875998812,0.21260135028693583,0.2142973518138835,0.2159933533408312,0.2176893548677789,0.21938535639472662,0.22108135792167433,0.222777359448622,0.22447336097556972,0.2261693625025174,0.2278653640294651,0.22956136555641282,0.2312573670833605,0.23295336861030821,0.2346493701372559,0.2363453716642036,0.23804137319115132,0.23973737471809903,0.24143337624504674,0.24312937777199442,0.2448253792989421,0.2465213808258898,0.24821738235283752,0.24991338387978523,0.25160938540673294,0.25330538693368065,0.2550013884606283,0.256697389987576,0.25839339151452373,0.26008939304147144,0.2617853945684191,0.2634813960953668,0.2651773976223145,0.2668733991492622,0.26856940067620994,0.27026540220315765,0.27196140373010536,0.27365740525705307,0.2753534067840008,0.27704940831094843,0.27874540983789614,0.2804414113648438,0.2821374128917915,0.2838334144187392,0.2855294159456869,0.28722541747263464,0.28892141899958235,0.29061742052653006,0.29231342205347777,0.2940094235804255,0.29570542510737313,0.29740142663432084,0.2990974281612685,0.3007934296882162,0.3024894312151639,0.3041854327421116,0.30588143426905934,0.30757743579600705,0.30927343732295476,0.31096943884990247,0.3126654403768501,0.31436144190379783,0.3160574434307455,0.31775344495769325,0.3194494464846409,0.3211454480115886,0.32284144953853633,0.32453745106548404,0.32623345259243175,0.32792945411937946,0.32962545564632717,0.3313214571732749,0.3330174587002226,0.33471346022717025,0.33640946175411796,0.3381054632810656,0.3398014648080133,0.34149746633496103,0.34319346786190874,0.34488946938885645,0.34658547091580416,0.34828147244275187,0.3499774739696996,0.35167347549664724,0.35336947702359495,0.3550654785505426,0.35676148007749037,0.358457481604438,0.36015348313138573,0.36184948465833344,0.36354548618528115,0.36524148771222886,0.3669374892391766,0.3686334907661243,0.37032949229307194,0.3720254938200197,0.37372149534696736,0.37541749687391507,0.3771134984008627,0.37880949992781043,0.38050550145475814,0.38220150298170585,0.38389750450865356,0.3855935060356013,0.387289507562549,0.3889855090894967,0.39068151061644435,0.39237751214339206,0.3940735136703397,0.3957695151972874,0.39746551672423514,0.39916151825118285,0.40085751977813056,0.40255352130507827,0.404249522832026,0.4059455243589737,0.4076415258859214,0.4093375274128691,0.4110335289398168,0.4127295304667644,0.4144255319937121,0.41612153352065984,0.41781753504760755,0.41951353657455526,0.42120953810150297,0.4229055396284507,0.4246015411553984,0.4262975426823461,0.4279935442092937,0.4296895457362415,0.4313855472631891,0.4330815487901368,0.43477755031708454,0.43647355184403225,0.43816955337097996,0.43986555489792767,0.4415615564248754,0.4432575579518231,0.4449535594787708,0.4466495610057185,0.4483455625326662,0.45004156405961393,0.45173756558656153,0.45343356711350924,0.45512956864045695,0.45682557016740466,0.45852157169435237,0.4602175732213001,0.4619135747482478,0.4636095762751955,0.4653055778021432,0.4670015793290908,0.46869758085603863,0.47039358238298623,0.47208958390993394,0.47378558543688165,0.47548158696382936,0.47717758849077707,0.4788735900177248,0.4805695915446725,0.4822655930716202,0.4839615945985679,0.4856575961255155,0.48735359765246333,0.48904959917941104,0.49074560070635864,0.49244160223330635,0.49413760376025406,0.4958336052872018,0.4975296068141495,0.4992256083410972,0.5009216098680449,0.5026176113949926,0.5043136129219403,0.5060096144488879,0.5077056159758357,0.5094016175027833,0.511097619029731,0.5127936205566788,0.5144896220836265,0.5161856236105742,0.5178816251375219,0.5195776266644696,0.5212736281914173,0.522969629718365,0.5246656312453126,0.5263616327722604,0.5280576342992082,0.5297536358261558,0.5314496373531035,0.5331456388800512,0.5348416404069989,0.5365376419339466,0.5382336434608943,0.539929644987842,0.5416256465147897,0.5433216480417374,0.545017649568685,0.5467136510956329,0.5484096526225805,0.5501056541495282,0.5518016556764759,0.5534976572034236,0.5551936587303713,0.556889660257319,0.5585856617842667,0.5602816633112144,0.5619776648381621,0.5636736663651097,0.5653696678920576,0.5670656694190053,0.5687616709459529,0.5704576724729006,0.5721536739998483,0.573849675526796,0.5755456770537437,0.5772416785806914,0.5789376801076391,0.5806336816345868,0.5823296831615346,0.5840256846884821,0.58572168621543,0.5874176877423776,0.5891136892693253,0.590809690796273,0.5925056923232207,0.5942016938501684,0.5958976953771161,0.5975936969040638,0.5992896984310115,0.6009856999579593,0.6026817014849069,0.6043777030118547,0.6060737045388023,0.60776970606575,0.6094657075926977,0.6111617091196454,0.6128577106465931,0.6145537121735408,0.6162497137004885,0.6179457152274362,0.619641716754384,0.6213377182813317,0.6230337198082793,0.6247297213352271,0.6264257228621747,0.6281217243891224,0.6298177259160701,0.6315137274430178,0.6332097289699655,0.6349057304969132,0.6366017320238609,0.6382977335508087,0.6399937350777564,0.641689736604704,0.6433857381316518,0.6450817396585994,0.6467777411855471,0.6484737427124948,0.6501697442394425,0.6518657457663902,0.6535617472933379,0.6552577488202856,0.6569537503472332,0.658649751874181,0.6603457534011288,0.6620417549280765,0.6637377564550241,0.6654337579819718,0.6671297595089195,0.6688257610358672,0.6705217625628148,0.6722177640897626,0.6739137656167103,0.6756097671436581,0.6773057686706058,0.6790017701975534,0.6806977717245011,0.6823937732514488,0.6840897747783965,0.6857857763053442,0.6874817778322919,0.6891777793592396,0.6908737808861873,0.692569782413135,0.6942657839400826,0.6959617854670304,0.6976577869939781,0.6993537885209259,0.7010497900478735,0.7027457915748212,0.7044417931017689,0.7061377946287166,0.7078337961556643,0.7095297976826119,0.7112257992095598,0.7129218007365075,0.7146178022634552,0.7163138037904028,0.7180098053173505,0.7197058068442982,0.7214018083712459,0.7230978098981936,0.7247938114251413,0.726489812952089,0.7281858144790367,0.7298818160059845,0.7315778175329322,0.7332738190598798,0.7349698205868275,0.7366658221137753,0.738361823640723,0.7400578251676706,0.7417538266946183,0.743449828221566,0.7451458297485137,0.7468418312754614,0.748537832802409,0.7502338343293569,0.7519298358563046,0.7536258373832523,0.7553218389101999,0.7570178404371476,0.7587138419640953,0.760409843491043,0.7621058450179907,0.7638018465449384,0.7654978480718861,0.7671938495988339,0.7688898511257816,0.7705858526527293,0.7722818541796769,0.7739778557066246,0.7756738572335724,0.7773698587605201,0.7790658602874677,0.7807618618144154,0.7824578633413631,0.7841538648683108,0.7858498663952586,0.7875458679222062,0.789241869449154,0.7909378709761017,0.7926338725030494,0.794329874029997,0.7960258755569447,0.7977218770838924,0.7994178786108401,0.8011138801377878,0.8028098816647355,0.8045058831916833,0.806201884718631,0.8078978862455787,0.8095938877725263,0.811289889299474,0.8129858908264217,0.8146818923533695,0.8163778938803172,0.8180738954072648,0.8197698969342125,0.8214658984611602,0.823161899988108,0.8248579015150556,0.8265539030420033,0.8282499045689511,0.8299459060958988,0.8316419076228465,0.8333379091497941,0.8350339106767418,0.8367299122036895,0.8384259137306372,0.840121915257585,0.8418179167845327,0.8435139183114804,0.8452099198384281,0.8469059213653758,0.8486019228923234,0.8502979244192711,0.8519939259462188,0.8536899274731666,0.8553859290001143,0.8570819305270619,0.8587779320540097,0.8604739335809574,0.8621699351079051,0.8638659366348527,0.8655619381618004,0.8672579396887482,0.8689539412156959,0.8706499427426436,0.8723459442695912,0.8740419457965389,0.8757379473234866,0.8774339488504344,0.8791299503773821,0.8808259519043298,0.8825219534312775,0.8842179549582252,0.8859139564851729,0.8876099580121205,0.8893059595390682,0.8910019610660159,0.8926979625929637,0.8943939641199115,0.896089965646859,0.8977859671738068,0.8994819687007545,0.9011779702277022,0.9028739717546498,0.9045699732815975,0.9062659748085453,0.907961976335493,0.9096579778624407,0.9113539793893883,0.913049980916336,0.9147459824432838,0.9164419839702315,0.9181379854971791,0.9198339870241269,0.9215299885510746,0.9232259900780223,0.92492199160497,0.9266179931319176,0.9283139946588653,0.930009996185813,0.9317059977127609,0.9334019992397085,0.9350980007666562,0.9367940022936039,0.9384900038205516,0.9401860053474993,0.9418820068744469,0.9435780084013946,0.9452740099283424,0.9469700114552901,0.9486660129822378,0.9503620145091854,0.9520580160361332,0.9537540175630809,0.9554500190900286,0.9571460206169762,0.958842022143924,0.9605380236708717,0.9622340251978194,0.9639300267247671,0.9656260282517147,0.9673220297786624,0.9690180313056102,0.970714032832558,0.9724100343595056,0.9741060358864533,0.975802037413401,0.9774980389403487,0.9791940404672964,0.980890041994244,0.9825860435211917,0.9842820450481395,0.9859780465750873,0.987674048102035,0.9893700496289826,0.9910660511559303,0.992762052682878],\"xaxis\":\"x\",\"y\":[0.2737341114541472,0.27875597528848106,0.28384694410155537,0.2890074465603524,0.29423790206939415,0.2995387204650474,0.3049103017081977,0.3103530355754153,0.31586730134873786,0.32145346750419734,0.3271118913992198,0.3328429189590345,0.33864688436222723,0.3445241097255756,0.35047490478831156,0.3564995665959542,0.3625983791838605,0.3687716132606455,0.3750195258916243,0.3813423601824312,0.3877403449629764,0.3942136944718975,0.4007626080416723,0.4073872697845576,0.4140878482795202,0.42086449626033295,0.42771735030500524,0.43464653052672564,0.4416521402664889,0.44873426578759007,0.45589297597216205,0.46312832201994064,0.4704403371494394,0.4778290363017195,0.4852944158469439,0.4928364532938955,0.5004551070026612,0.5081503159006591,0.5159219992022094,0.5237700561318352,0.5316943656514925,0.5396947861919154,0.5477711553882786,0.5559232898203659,0.5641509847574452,0.5724540139080393,0.5808321291747977,0.5892850604146499,0.5978125152044542,0.6064141786123215,0.6150897129748165,0.6238387576802294,0.632660928958112,0.641555819675269,0.6505229991383975,0.6595620129035666,0.6686723825927247,0.6778536057174229,0.6871051555099454,0.6964264807620214,0.705817005671315,0.7152761296958645,0.7248032274166559,0.7343976484085013,0.7440587171194072,0.7537857327585922,0.763577969193334,0.7734346748548067,0.783355072653072,0.793338359901391,0.8033837082500019,0.8134902636295334,0.8236571462041883,0.8338834503348564,0.8441682445522931,0.8545105715405021,0.8649094481304629,0.875363865304327,0.8858727882102151,0.8964351561877284,0.9070498828043037,0.9177158559025114,0.928431937658413,0.939196964651078,0.9500097479433532,0.9608690731739836,0.9717737006611658,0.9827223655176144,0.993713777777225,1.0047466225333919,1.0158195600890496,1.0269312261184997,1.0380802318410678,1.0492651642066388,1.0604845860931111,1.0717370365158003,1.0830210308488226,1.0943350610584677,1.1056775959485885,1.117047081418005,1.1284419407299178,1.1398605747933415,1.1513013624565187,1.1627626608123194,1.1742428055155765,1.1857401111123338,1.1972528713809611,1.2087793596850884,1.2203178293382948,1.2318665139805005,1.2434236279659778,1.2549873667629137,1.2665559073644268,1.2781274087109535,1.289700012123903,1.3012718417504618,1.3128410050194486,1.3244055931080823,1.3359636814195435,1.3475133300711841,1.3590525843932444,1.3705794754379252,1.382092020498657,1.393588223639392,1.40506607623376,1.4165235575138888,1.4279586351287221,1.4393692657116193,1.4507533954570537,1.4621089607061868,1.4734338885411158,1.4847260973875585,1.4959834976257624,1.5072039922093934,1.51838547729216,1.5295258428619416,1.540622973382147,1.5516747484400595,1.5626790434018916,1.5736337300742882,1.584536677371996,1.5953857519914132,1.6061788190897406,1.6169137429694358,1.6275883877676702,1.6382006181504953,1.6487483000113967,1.6592293011739416,1.6696414920981835,1.6799827465905213,1.690250942516676,1.700443962517464,1.7105596947270285,1.7205960334931998,1.7305508800996412,1.7404221434894411,1.750207740989804,1.7599055990374965,1.7695136539046985,1.7790298524248982,1.7884521527184967,1.797778524917744,1.8070069518906642,1.8161354299636085,1.8251619696420696,1.834084596329407,1.8429013510431111,1.8516102911282606,1.8602094909677824,1.868697042689195,1.877071056867427,1.8853296632233887,1.8934710113179116,1.9014932712407098,1.909394634293997,1.9171733136704119,1.9248275451248877,1.9323555876401186,1.9397557240852723,1.947026261867598,1.9541655335765862,1.9611718976203396,1.9680437388538075,1.9747794691985592,1.9813775282537567,1.987836383897997,1.994154532881705,2.0003305014097505,2.0063628457139804,2.0122501526153442,2.0179910400753247,2.0235841577363454,2.029028187450894,2.0343218437990354,2.0394638745940603,2.0444530613759713,2.0492882198925417,2.053968200567687,2.058491888956875,2.062858206189334,2.067066109396813,2.0711145921286493,2.075002684752914,2.0787294548434168,2.082294007552348,2.085695485968352,2.08893307145983,2.09200598400328,2.094913482496493,2.0976548650564246,2.100229469301575,2.102636672618721,2.1048758924138506,2.106946586347151,2.108848252551928,2.1105804298373236,2.112142697874724,2.1135346773677495,2.1147560302057262,2.115806459600564,2.116685710206951,2.1173935682258023,2.1179298614909015,2.1182944595386934,2.1184872736611764,2.1185082569418725,2.1183574042748554,2.1180347523668206,2.117540379722198,2.1168744066113203,2.1160369950216573,2.1150283485921486,2.1138487125306757,2.112498373514708,2.1109776595751955,2.1092869399637566,2.107426625003252,2.1053971659218216,2.1031990546704726,2.1008328237243394,2.0982990458677087,2.0955983339629403,2.0927313407034194,2.0896987583506665,2.0865013184557637,2.0831397915652525,2.0796149869116656,2.0759277520888646,2.07207897271238,2.06806957206492,2.0639005107272705,2.0595727861947823,2.0550874324796506,2.0504455196992333,2.045648153650609,2.0406964753716337,2.0355916606887274,2.030334919751649,2.0249274965555104,2.0193706684502963,2.01366574563817,2.007814070658819,2.0018170178631522,1.9956759928756145,1.989392432045422,1.9829678018870214,1.9764035985100699,1.9697013470392515,1.9628626010242445,1.9558889418401542,1.9487819780787399,1.9415433449307655,1.9341747035597927,1.9266777404677722,1.9190541668527499,1.9113057179590507,1.9034341524202654,1.8954412515954033,1.8873288188985524,1.8790986791224022,1.8707526777559833,1.8622926802969775,1.8537205715589586,1.845038254973927,1.8362476518904833,1.8273507008680214,1.818349356967287,1.8092455910376692,1.8000413890015892,1.7907387511363433,1.7813396913537634,1.771846236478057,1.762260425522185,1.7525843089631334,1.74281994801645,1.7329694139103764,1.723034787159961,1.7130181568414768,1.7029216198675192,1.6927472802631085,1.6824972484431606,1.6721736404916636,1.6617785774428857,1.651314184564982,1.6407825906462967,1.6301859272847172,1.6195263281803896,1.6088059284321319,1.598026863837847,1.5871912701992574,1.576301282631268,1.5653590348762663,1.5543666586236464,1.5433262828348644,1.5322400330743078,1.5211100308462582,1.5099383929382415,1.498727230771015,1.4874786497554797,1.4761947486567624,1.4648776189657378,1.4535293442782242,1.4421519996821082,1.4307476511526274,1.41931835495604,1.407866157061917,1.3963930925642525,1.3849011851116269,1.373392446346598,1.3618688753545498,1.3503324581221565,1.3387851670056659,1.327228960209166,1.3156657812730066,1.304097558572544,1.292526204827346,1.2809536166210203,1.2693816739317942,1.2578122396739897,1.2462471592505031,1.2346882601164197,1.2231373513538668,1.2115962232582076,1.2000666469356769,1.1885503739125391,1.177049135755854,1.1655646437059217,1.1540985883204697,1.1426526391306528,1.1312284443089011,1.1198276303486656,1.1084518017561074,1.0971025407537514,1.0857814069961285,1.0744899372974217,1.0632296453711318,1.0520020215817514,1.040808532708463,1.0296506217208228,1.0185297075664383,1.007447184970596,0.9964044242478204,0.9854027711253187,0.9744435465782708,0.9635280466769142,0.9526575424453665,0.9418332797321258,0.9310564790921769,0.9203283356806343,0.9096500191578376,0.8990226736058141,0.8884474174560285,0.8779253434283073,0.8674575184808481,0.8570449837712015,0.8466887546281258,0.8363898205341816,0.8261491451189588,0.8159676661628043,0.8058462956109241,0.7957859195977293,0.7857873984812727,0.775851566887657,0.7659792337652475,0.7561711824485573,0.7464281707316358,0.7367509309508178,0.7271401700766637,0.7175965698149352,0.7081207867164327,0.6987134522955342,0.689375173157258,0.6801065311326764,0.6709080834225071,0.6617803627486994,0.6527238775138405,0.6437391119681862,0.6348265263841489,0.6259865572380459,0.6172196173989198,0.608526096324247,0.599906360262337,0.5913607524612421,0.5828895933839726,0.5744931809298297,0.5661717906616639,0.557925676038859,0.5497550686558563,0.5416601784860089,0.5336411941305833,0.5256982830727083,0.5178315919360738,0.5100412467481867,0.5023273532079879,0.49468999695763743,0.4871292438582689,0.4796451402695291,0.4722377133326989,0.46490697125721603,0.45765290361039535,0.4504754816101703,0.4433746584206622,0.4363503694503866,0.4294025326529183,0.4225310488298235,0.41573580193568727,0.40901665938504606,0.4023734723610477,0.39580607612567137,0.38931429033131737,0.38289791933361156,0.37655675250523735,0.37029056455063747,0.3640991158214156,0.357982152632274,0.3519394075773273,0.3459705998466303,0.3400754355427682,0.3342536079973498,0.3285047980872598,0.3228286745505125,0.3172248943015721,0.31169310274598455,0.306232934094192,0.3008440116743876,0.29552594824427547,0.29027834630160676,0.28510079839336233,0.2799928874234593,0.2749541869588564,0.2699842615339376,0.26508266695306504,0.26024895059117953,0.2554826516923468,0.2507833016661367,0.24615042438173532,0.24158353645968814,0.23708214756118068,0.23264576067475562,0.228273872400383,0.22396597323079223,0.2197215478299807,0.21554007530882163,0.21142102949768815,0.20736387921602437,0.2033680885387832,0.19943311705967373,0.1955584201511422,0.19174344922103026,0.18798765196584874,0.1842904726206107,0.18065135220517234,0.17706972876702903,0.17354503762052012,0.17007671158239876,0.16666418120372453,0.16330687499804153,0.1600042196658042,0.15675564031502,0.1535605606780771,0.15041840332473277,0.14732858987123335,0.14429054118554796,0.14130367758869494,0.13836741905214323,0.13548118539127763,0.1326443964549125,0.12985647231084874,0.1271168334274615,0.12442490085132228,0.12178009638084564,0.11918184273596541,0.11662956372384081,0.11412268440059749,0.1116606312291111,0.1092428322328409,0.10686871714572464,0.10453771755814782,0.10224926705900143,0.10000280137384716],\"yaxis\":\"y\",\"type\":\"scatter\"},{\"legendgroup\":\"white\",\"marker\":{\"color\":\"rgb(180, 180, 180)\"},\"mode\":\"lines\",\"name\":\"white\",\"showlegend\":false,\"x\":[0.12938185576890282,0.13109757198753166,0.1328132882061605,0.13452900442478932,0.13624472064341817,0.137960436862047,0.13967615308067585,0.14139186929930467,0.1431075855179335,0.14482330173656235,0.1465390179551912,0.14825473417382004,0.14997045039244886,0.1516861666110777,0.15340188282970654,0.1551175990483354,0.1568333152669642,0.15854903148559304,0.1602647477042219,0.16198046392285073,0.16369618014147957,0.1654118963601084,0.16712761257873723,0.16884332879736608,0.17055904501599492,0.17227476123462376,0.17399047745325258,0.17570619367188142,0.17742190989051027,0.1791376261091391,0.18085334232776795,0.18256905854639677,0.1842847747650256,0.18600049098365445,0.1877162072022833,0.18943192342091214,0.19114763963954096,0.1928633558581698,0.19457907207679864,0.19629478829542746,0.19801050451405633,0.19972622073268514,0.201441936951314,0.20315765316994283,0.20487336938857165,0.20658908560720052,0.20830480182582933,0.21002051804445815,0.21173623426308702,0.21345195048171584,0.21516766670034468,0.21688338291897352,0.21859909913760237,0.2203148153562312,0.22203053157486002,0.22374624779348887,0.2254619640121177,0.22717768023074653,0.2288933964493754,0.2306091126680042,0.23232482888663306,0.2340405451052619,0.23575626132389074,0.23747197754251956,0.2391876937611484,0.24090340997977724,0.2426191261984061,0.2443348424170349,0.24605055863566377,0.2477662748542926,0.24948199107292143,0.2511977072915503,0.2529134235101791,0.25462913972880796,0.2563448559474368,0.2580605721660656,0.25977628838469446,0.2614920046033233,0.2632077208219521,0.26492343704058097,0.26663915325920984,0.2683548694778386,0.27007058569646747,0.27178630191509634,0.27350201813372516,0.27521773435235397,0.27693345057098284,0.27864916678961166,0.2803648830082405,0.28208059922686934,0.2837963154454982,0.28551203166412703,0.28722774788275585,0.28894346410138466,0.2906591803200135,0.29237489653864235,0.2940906127572712,0.29580632897590003,0.29752204519452885,0.2992377614131577,0.30095347763178654,0.30266919385041535,0.3043849100690442,0.3061006262876731,0.3078163425063019,0.3095320587249307,0.3112477749435596,0.3129634911621884,0.3146792073808172,0.3163949235994461,0.3181106398180749,0.31982635603670373,0.3215420722553326,0.3232577884739614,0.32497350469259023,0.3266892209112191,0.328404937129848,0.3301206533484768,0.3318363695671056,0.3335520857857345,0.3352678020043633,0.3369835182229921,0.338699234441621,0.34041495066024985,0.34213066687887866,0.3438463830975075,0.3455620993161363,0.3472778155347651,0.348993531753394,0.35070924797202285,0.35242496419065167,0.3541406804092805,0.35585639662790935,0.35757211284653817,0.359287829065167,0.36100354528379586,0.36271926150242473,0.36443497772105354,0.36615069393968236,0.36786641015831123,0.36958212637694005,0.37129784259556886,0.37301355881419773,0.37472927503282655,0.37644499125145536,0.37816070747008423,0.37987642368871305,0.3815921399073419,0.38330785612597074,0.3850235723445996,0.3867392885632284,0.38845500478185724,0.39017072100048605,0.3918864372191149,0.39360215343774374,0.39531786965637256,0.3970335858750014,0.39874930209363024,0.4004650183122591,0.40218073453088793,0.4038964507495168,0.4056121669681456,0.40732788318677443,0.4090435994054033,0.4107593156240321,0.412475031842661,0.4141907480612898,0.4159064642799186,0.4176221804985475,0.4193378967171763,0.4210536129358052,0.422769329154434,0.42448504537306286,0.4262007615916917,0.4279164778103205,0.42963219402894937,0.4313479102475782,0.43306362646620705,0.43477934268483587,0.43649505890346474,0.43821077512209355,0.43992649134072237,0.44164220755935124,0.44335792377798006,0.4450736399966089,0.4467893562152377,0.4485050724338665,0.4502207886524954,0.4519365048711242,0.45365222108975306,0.4553679373083819,0.45708365352701075,0.45879936974563956,0.4605150859642684,0.46223080218289725,0.46394651840152606,0.46566223462015494,0.46737795083878375,0.4690936670574126,0.47080938327604144,0.47252509949467025,0.4742408157132991,0.47595653193192794,0.4776722481505568,0.4793879643691856,0.48110368058781444,0.4828193968064433,0.48453511302507213,0.486250829243701,0.4879665454623298,0.4896822616809587,0.4913979778995875,0.4931136941182163,0.4948294103368452,0.496545126555474,0.4982608427741029,0.4999765589927317,0.5016922752113606,0.5034079914299894,0.5051237076486181,0.506839423867247,0.5085551400858759,0.5102708563045046,0.5119865725231335,0.5137022887417624,0.5154180049603911,0.51713372117902,0.5188494373976489,0.5205651536162776,0.5222808698349066,0.5239965860535354,0.5257123022721641,0.5274280184907931,0.5291437347094219,0.5308594509280508,0.5325751671466796,0.5342908833653084,0.5360065995839373,0.5377223158025661,0.5394380320211949,0.5411537482398238,0.5428694644584526,0.5445851806770814,0.5463008968957104,0.5480166131143391,0.5497323293329679,0.5514480455515969,0.5531637617702256,0.5548794779888545,0.5565951942074834,0.5583109104261121,0.560026626644741,0.5617423428633698,0.5634580590819986,0.5651737753006274,0.5668894915192564,0.5686052077378851,0.5703209239565139,0.5720366401751429,0.5737523563937716,0.5754680726124005,0.5771837888310294,0.5788995050496581,0.580615221268287,0.5823309374869159,0.5840466537055446,0.5857623699241735,0.5874780861428024,0.5891938023614312,0.59090951858006,0.5926252347986889,0.5943409510173177,0.5960566672359466,0.5977723834545754,0.5994880996732043,0.6012038158918331,0.6029195321104619,0.6046352483290908,0.6063509645477196,0.6080666807663484,0.6097823969849773,0.6114981132036061,0.6132138294222349,0.6149295456408638,0.6166452618594926,0.6183609780781214,0.6200766942967503,0.6217924105153791,0.6235081267340079,0.6252238429526368,0.6269395591712656,0.6286552753898944,0.6303709916085233,0.6320867078271521,0.633802424045781,0.6355181402644098,0.6372338564830387,0.6389495727016675,0.6406652889202964,0.6423810051389252,0.644096721357554,0.6458124375761828,0.6475281537948117,0.6492438700134405,0.6509595862320693,0.6526753024506982,0.654391018669327,0.6561067348879559,0.6578224511065847,0.6595381673252135,0.6612538835438423,0.6629695997624713,0.6646853159811,0.6664010321997289,0.6681167484183577,0.6698324646369865,0.6715481808556154,0.6732638970742443,0.674979613292873,0.6766953295115019,0.6784110457301308,0.6801267619487597,0.6818424781673884,0.6835581943860173,0.685273910604646,0.686989626823275,0.6887053430419038,0.6904210592605327,0.6921367754791614,0.6938524916977903,0.6955682079164192,0.697283924135048,0.6989996403536768,0.7007153565723057,0.7024310727909344,0.7041467890095634,0.7058625052281922,0.7075782214468209,0.7092939376654498,0.7110096538840787,0.7127253701027075,0.7144410863213363,0.7161568025399652,0.7178725187585939,0.7195882349772229,0.7213039511958517,0.7230196674144805,0.7247353836331093,0.7264510998517382,0.728166816070367,0.7298825322889959,0.7315982485076247,0.7333139647262535,0.7350296809448823,0.7367453971635113,0.73846111338214,0.7401768296007689,0.7418925458193977,0.7436082620380267,0.7453239782566554,0.7470396944752843,0.748755410693913,0.7504711269125419,0.7521868431311708,0.7539025593497997,0.7556182755684284,0.7573339917870573,0.759049708005686,0.760765424224315,0.7624811404429438,0.7641968566615726,0.7659125728802014,0.7676282890988302,0.7693440053174592,0.7710597215360879,0.7727754377547168,0.7744911539733456,0.7762068701919745,0.7779225864106033,0.7796383026292322,0.7813540188478609,0.7830697350664898,0.7847854512851187,0.7865011675037475,0.7882168837223763,0.7899325999410052,0.7916483161596339,0.7933640323782629,0.7950797485968917,0.7967954648155205,0.7985111810341493,0.8002268972527782,0.801942613471407,0.8036583296900359,0.8053740459086647,0.8070897621272936,0.8088054783459224,0.8105211945645513,0.81223691078318,0.8139526270018089,0.8156683432204377,0.8173840594390667,0.8190997756576954,0.8208154918763242,0.8225312080949531,0.8242469243135818,0.8259626405322108,0.8276783567508396,0.8293940729694684,0.8311097891880972,0.8328255054067261,0.8345412216253549,0.8362569378439838,0.8379726540626126,0.8396883702812414,0.8414040864998703,0.8431198027184992,0.8448355189371279,0.8465512351557568,0.8482669513743856,0.8499826675930146,0.8516983838116433,0.8534141000302722,0.8551298162489009,0.8568455324675298,0.8585612486861587,0.8602769649047876,0.8619926811234163,0.8637083973420452,0.865424113560674,0.8671398297793029,0.8688555459979317,0.8705712622165606,0.8722869784351893,0.8740026946538183,0.8757184108724471,0.8774341270910758,0.8791498433097047,0.8808655595283335,0.8825812757469624,0.8842969919655912,0.8860127081842201,0.8877284244028488,0.8894441406214777,0.8911598568401066,0.8928755730587354,0.8945912892773642,0.8963070054959931,0.8980227217146218,0.8997384379332508,0.9014541541518796,0.9031698703705084,0.9048855865891372,0.9066013028077662,0.908317019026395,0.9100327352450238,0.9117484514636526,0.9134641676822814,0.9151798839009103,0.9168956001195392,0.918611316338168,0.9203270325567968,0.9220427487754256,0.9237584649940546,0.9254741812126833,0.9271898974313122,0.928905613649941,0.9306213298685699,0.9323370460871987,0.9340527623058275,0.9357684785244563,0.9374841947430851,0.9391999109617141,0.9409156271803428,0.9426313433989717,0.9443470596176005,0.9460627758362293,0.9477784920548582,0.9494942082734871,0.9512099244921158,0.9529256407107447,0.9546413569293735,0.9563570731480024,0.9580727893666312,0.9597885055852601,0.9615042218038888,0.9632199380225178,0.9649356542411466,0.9666513704597754,0.9683670866784042,0.9700828028970331,0.971798519115662,0.9735142353342908,0.9752299515529196,0.9769456677715485,0.9786613839901772,0.9803771002088062,0.982092816427435,0.9838085326460638,0.9855242488646926],\"xaxis\":\"x\",\"y\":[0.7342225125783554,0.745751097920302,0.7573818169873078,0.7691138212135186,0.7809462169542055,0.7928780651626431,0.8049083810858266,0.8170361339795064,0.8292602468430105,0.8415795961743269,0.8539930117459029,0.8664992764016131,0.8790971258753365,0.8917852486315813,0.9045622857285711,0.9174268307042159,0.9303774294853601,0.9434125803207073,0.9565307337377915,0.9697302925243696,0.9830096117345838,0.9963669987202346,1.0098007131874973,1.0233089672793845,1.03688992568426,1.050541705770688,1.0642623777488773,1.078049964858981,1.0919024435864804,1.1058177439048738,1.1197937495458714,1.13382829829728,1.1479191823287425,1.162064148545478,1.1762608989701522,1.1905070911529927,1.2048003386102288,1.219138211290935,1.2335182360723234,1.2479378972835207,1.262394637257835,1.2768858569134993,1.2914089163628704,1.3059611355500151,1.3205397949166198,1.335142136096126,1.3497653626359631,1.3644066407477586,1.379063100085341,1.3937318345503666,1.4084099031253596,1.4230943307339328,1.4377821091279428,1.452470197801303,1.4671555249301613,1.4818349883391206,1.4965054564931615,1.5111637695149087,1.5258067402268534,1.540431155218116,1.5550337759353414,1.569611339797245,1.5841605613323677,1.598678133339522,1.613160728070426,1.627604998433986,1.6420075792216653,1.656365088353368,1.6706741281432391,1.6849312865847517,1.699133138654463,1.7132762476337622,1.7273571664479472,1.7413724390219347,1.7553186016518818,1.769192184392004,1.7829897124558336,1.796707707631151,1.8103426897078245,1.8238911779177476,1.837349692386074,1.8507147555929189,1.8639828938446987,1.8771506387542398,1.8902145287288121,1.9031711104651972,1.916016940450909,1.9287485864706675,1.9413626291172135,1.9538556633055568,1.9662242997897168,1.9784651666810322,1.9905749109670976,2.002550200030368,2.0143877231654943,2.026084193094413,2.037636347478243,2.0490409504250118,2.0602947939922505,2.071394699683479,2.0823375199376124,2.0931201396103227,2.103739477446377,2.1141924875419793,2.1244761607961586,2.134587526350234,2.1445236530143883,2.1542816506804066,2.163858671719621,2.1732519123651195,2.1824586140772766,2.191476064891693,2.2003016007485994,2.2089326068028323,2.2173665187134772,2.225600823912286,2.2336330628499885,2.2414608302196473,2.24908177615619,2.2564936074112873,2.26369408850276,2.2706810428377007,2.2774523538085254,2.2840059658611844,2.2903398855347703,2.2964521824717994,2.302340990398437,2.3080045080739797,2.3134410002089134,2.3186487983508925,2.323626301738012,2.3283719781187533,2.3328843645380233,2.337162068088719,2.3412037666282757,2.3450082094596887,2.3485742179765072,2.3519006862713465,2.3549865817074727,2.3578309454530393,2.360432892977609,2.362791614510575,2.3649063754611728,2.3667765167997583,2.368401455400089,2.3697806843423534,2.370913773176728,2.3718003681472686,2.3724401923759824,2.372833046006931,2.372978806310274,2.37287742774617,2.372528941988486,2.3719334579083076,2.371091161517253,2.3700023158706363,2.3686672609305433,2.36708641338894,2.3652602664509126,2.363189389578223,2.3608744281933545,2.35831610334426,2.355515211330068,2.352472623288007,2.3491892847418545,2.3456662151122365,2.3419045071891333,2.3379053265669714,2.333669911042715,2.329199569977388,2.3244956836214854,2.319559702404771,2.3143931461909597,2.3089976034978315,2.3033747306833274,2.2975262510982235,2.2914539542059775,2.2851596946703805,2.278645391411675,2.2719130266317946,2.264964644809432,2.25780235166564,2.250428313100707,2.2428447541030456,2.2350539576308743,2.227058263467475,2.218860067050826,2.210461818278436,2.2018660202882105,2.193075228216193,2.184092047932056,2.174919134753204,2.1655591921383874,2.156014970361712,2.146289265167969,2.1363849164101913,2.1263048066703703,2.116051859864271,2.1056290398312774,2.0950393489102352,2.084285826502228,2.0733715476212637,2.0622996214338274,2.051073189788263,2.0396954257349655,2.0281695320383477,2.016498739681549,2.004686306364873,1.9927355149989059,1.980649672193302,1.9684321067421933,1.9560861681071868,1.943615224898919,1.9310226633581056,1.9183118858370554,1.9054863092825727,1.8925493637211983,1.879504490747705,1.8663551420177826,1.853104777745803,1.8397568652085812,1.8263148772560194,1.8127822908295046,1.799162585488933,1.7854592419492175,1.7716757406271095,1.7578155601991725,1.7438821761717131,1.7298790594634739,1.7158096750018554,1.7016774803334633,1.687485924249689,1.6732384454280946,1.6589384710903068,1.6445894156770868,1.6301946795413134,1.6157576476594853,1.601281688362411,1.5867701520857103,1.5722263701407122,1.5576536535063443,1.543055291642574,1.5284345513259368,1.5137946755076679,1.4991388821949592,1.4844703633557736,1.4697922838477209,1.4551077803714012,1.4404199604486194,1.4257319014258913,1.4110466495035785,1.3963672187910066,1.3816965903879015,1.3670377114924195,1.3523934945360774,1.3377668163458036,1.3231605173333878,1.308577400712484,1.29402023174341,1.2794917370058783,1.2649946036997968,1.250531478974293,1.236104969285029,1.2217176397798981,1.2073720137131767,1.1930705718881336,1.1788157521281388,1.164609948776262,1.150455512223318,1.1363547484643297,1.1223099186833372,1.108323238866461,1.094396879443113,1.0805329649552506,1.0667335737544883,1.0530007377269521,1.0393364420456632,1.0257426249502617,1.012221177553867,0.9987739436768236,0.9854027197070949,0.9721092544870457,0.9588952492263159,0.9457623574405056,0.9327121849153592,0.9197462896961149,0.9068661821016883,0.8940733247633474,0.8813691326874927,0.8687549733421851,0.8562321667670275,0.8438019857059973,0.831465655762815,0.8192243555784459,0.8070792170302795,0.7950313254525628,0.7830817198776291,0.7712313932974745,0.7594812929452016,0.7478323205958728,0.7362853328862765,0.7248411416531407,0.7135005142892752,0.7022641741171728,0.6911328007795434,0.6801070306462838,0.6691874572373783,0.6583746316612019,0.6476690630677185,0.6370712191160479,0.626581526455891,0.6162003712222692,0.6059280995430796,0.5957650180589119,0.5857113944546307,0.5757674580021712,0.5659334001140464,0.5562093749070242,0.5465954997754653,0.537091855973792,0.527698489207582,0.5184154102327572,0.5092425954623686,0.5001799875804596,0.49122749616251216,0.4823849983019617,0.4736523392423044,0.4650293330142791,0.45651576307766684,0.44811138296720254,0.4398159169421416,0.4316290606389998,0.42355048172701343,0.41557982056585513,0.407716690865167,0.3999606803454542,0.39231135139992374,0.3847682417568157,0.37733086514183345,0.3699987119402462,0.36277124985826076,0.3556479245832733,0.34862816044260836,0.34171136106037564,0.3348969100120609,0.3281841714765108,0.32157249088493534,0.31506119556661166,0.30864959539093395,0.30233698340550313,0.29612263646992765,0.2900058158850418,0.2839857680172393,0.2780617249176401,0.2722329049358105,0.26649851332777824,0.26085774285807156,0.2553097743955522,0.24985377750278842,0.24448891101875764,0.23921432363463904,0.23402915446251138,0.22893253359673618,0.22392358266785312,0.21900141538879547,0.21416513809326357,0.20941385026608964,0.2047466450654475,0.20016260983675868,0.19566082661816883,0.1912403726374604,0.18690032080029553,0.18263974016967927,0.17845769643654125,0.17435325238135468,0.1703254683267017,0.1663734025807249,0.16249611187138863,0.1586926517715048,0.1549620771144651,0.15130344240064925,0.14771580219446737,0.14419821151202017,0.14074972619935153,0.1373694033012878,0.13405630142085737,0.13080948106929813,0.12762800500665583,0.12451093857299933,0.12145735001026388,0.11846631077476444,0.11553689584040346,0.11266818399262077,0.10985925811312892,0.10710920545548716,0.1044171179115716,0.10178209226900412,0.09920323045960672,0.09667963979895472,0.09421043321710408,0.09179472948057697,0.08943165340568651,0.08712033606329665,0.08485991497510198,0.08264953430153386,0.08048834502138727,0.078375505103273,0.07631017966900643,0.07429154114903709,0.07231876943003752,0.07039105199476252,0.0685075840543013,0.06666756867283918,0.0648702168850539,0.06311474780626997,0.06140038873549954,0.05972637525149537,0.058091951301948,0.05649636928595692,0.05493889012990991,0.053418783356901596,0.051935327149829597,0.05048780840829907,0.04907552279947663,0.04769777480302604,0.046353877750266954,0.045043153857690435,0.04376493425497192,0.04251855900761724,0.041303377134381876,0.040118746619598,0.03896403442055012,0.037838616470032845,0.03674187767423049,0.03567321190605208,0.03463202199405899,0.033617719707117924,0.03262972573491445,0.031667469664459776,0.030730389952721395,0.029817933895510074,0.028929557592750746,0.028064725910267957,0.02722291243821089,0.026403599446244555,0.025606277835631946,0.02483044708832815,0.024075615213209674,0.023341298689557696,0.022627022407912208,0.021932319608415764,0.021256731816758676,0.02059980877784038,0.01996110838725711,0.019340196620725173,0.01873664746154645,0.018150042826222755,0.01757997248832066,0.01702603400068991,0.01648783261613364,0.0159649812066281,0.015457100181187265,0.014963817402466504,0.01448476810219446,0.014019594795525116,0.013567947194394872,0.01312948211997109,0.012703863414274635,0.012290761851057489,0.011889855046013887,0.011500827366402466,0.0111233698401537,0.010757180064534954,0.01040196211444471,0.010057426450403374,0.009723289826308023,0.0093992751970152,0.009085111625814457,0.00878053419185249,0.00848528389756758,0.008199107576189442,0.007921757799360345,0.007652992784929335,0.007392576304970945,0.007140277594076636,0.006895871257966829,0.00665913718246799,0.006429860442898884,0.0062078312139069855,0.005992844679795511,0.005784700945378889,0.005583204947403459,0.005388166366567634,0.005199399540175639,0.005016723375455339,0.004839961263571063,0.004668940994359212,0.004503494671814107,0.0043434586303489646,0.004188673351856578],\"yaxis\":\"y\",\"type\":\"scatter\"}],                        {\"barmode\":\"overlay\",\"hovermode\":\"closest\",\"legend\":{\"traceorder\":\"reversed\"},\"xaxis\":{\"anchor\":\"y2\",\"domain\":[0.0,1.0],\"zeroline\":false},\"yaxis\":{\"anchor\":\"free\",\"domain\":[0.0,1],\"position\":0.0},\"template\":{\"data\":{\"bar\":[{\"error_x\":{\"color\":\"#2a3f5f\"},\"error_y\":{\"color\":\"#2a3f5f\"},\"marker\":{\"line\":{\"color\":\"#E5ECF6\",\"width\":0.5},\"pattern\":{\"fillmode\":\"overlay\",\"size\":10,\"solidity\":0.2}},\"type\":\"bar\"}],\"barpolar\":[{\"marker\":{\"line\":{\"color\":\"#E5ECF6\",\"width\":0.5},\"pattern\":{\"fillmode\":\"overlay\",\"size\":10,\"solidity\":0.2}},\"type\":\"barpolar\"}],\"carpet\":[{\"aaxis\":{\"endlinecolor\":\"#2a3f5f\",\"gridcolor\":\"white\",\"linecolor\":\"white\",\"minorgridcolor\":\"white\",\"startlinecolor\":\"#2a3f5f\"},\"baxis\":{\"endlinecolor\":\"#2a3f5f\",\"gridcolor\":\"white\",\"linecolor\":\"white\",\"minorgridcolor\":\"white\",\"startlinecolor\":\"#2a3f5f\"},\"type\":\"carpet\"}],\"choropleth\":[{\"colorbar\":{\"outlinewidth\":0,\"ticks\":\"\"},\"type\":\"choropleth\"}],\"contour\":[{\"colorbar\":{\"outlinewidth\":0,\"ticks\":\"\"},\"colorscale\":[[0.0,\"#0d0887\"],[0.1111111111111111,\"#46039f\"],[0.2222222222222222,\"#7201a8\"],[0.3333333333333333,\"#9c179e\"],[0.4444444444444444,\"#bd3786\"],[0.5555555555555556,\"#d8576b\"],[0.6666666666666666,\"#ed7953\"],[0.7777777777777778,\"#fb9f3a\"],[0.8888888888888888,\"#fdca26\"],[1.0,\"#f0f921\"]],\"type\":\"contour\"}],\"contourcarpet\":[{\"colorbar\":{\"outlinewidth\":0,\"ticks\":\"\"},\"type\":\"contourcarpet\"}],\"heatmap\":[{\"colorbar\":{\"outlinewidth\":0,\"ticks\":\"\"},\"colorscale\":[[0.0,\"#0d0887\"],[0.1111111111111111,\"#46039f\"],[0.2222222222222222,\"#7201a8\"],[0.3333333333333333,\"#9c179e\"],[0.4444444444444444,\"#bd3786\"],[0.5555555555555556,\"#d8576b\"],[0.6666666666666666,\"#ed7953\"],[0.7777777777777778,\"#fb9f3a\"],[0.8888888888888888,\"#fdca26\"],[1.0,\"#f0f921\"]],\"type\":\"heatmap\"}],\"heatmapgl\":[{\"colorbar\":{\"outlinewidth\":0,\"ticks\":\"\"},\"colorscale\":[[0.0,\"#0d0887\"],[0.1111111111111111,\"#46039f\"],[0.2222222222222222,\"#7201a8\"],[0.3333333333333333,\"#9c179e\"],[0.4444444444444444,\"#bd3786\"],[0.5555555555555556,\"#d8576b\"],[0.6666666666666666,\"#ed7953\"],[0.7777777777777778,\"#fb9f3a\"],[0.8888888888888888,\"#fdca26\"],[1.0,\"#f0f921\"]],\"type\":\"heatmapgl\"}],\"histogram\":[{\"marker\":{\"pattern\":{\"fillmode\":\"overlay\",\"size\":10,\"solidity\":0.2}},\"type\":\"histogram\"}],\"histogram2d\":[{\"colorbar\":{\"outlinewidth\":0,\"ticks\":\"\"},\"colorscale\":[[0.0,\"#0d0887\"],[0.1111111111111111,\"#46039f\"],[0.2222222222222222,\"#7201a8\"],[0.3333333333333333,\"#9c179e\"],[0.4444444444444444,\"#bd3786\"],[0.5555555555555556,\"#d8576b\"],[0.6666666666666666,\"#ed7953\"],[0.7777777777777778,\"#fb9f3a\"],[0.8888888888888888,\"#fdca26\"],[1.0,\"#f0f921\"]],\"type\":\"histogram2d\"}],\"histogram2dcontour\":[{\"colorbar\":{\"outlinewidth\":0,\"ticks\":\"\"},\"colorscale\":[[0.0,\"#0d0887\"],[0.1111111111111111,\"#46039f\"],[0.2222222222222222,\"#7201a8\"],[0.3333333333333333,\"#9c179e\"],[0.4444444444444444,\"#bd3786\"],[0.5555555555555556,\"#d8576b\"],[0.6666666666666666,\"#ed7953\"],[0.7777777777777778,\"#fb9f3a\"],[0.8888888888888888,\"#fdca26\"],[1.0,\"#f0f921\"]],\"type\":\"histogram2dcontour\"}],\"mesh3d\":[{\"colorbar\":{\"outlinewidth\":0,\"ticks\":\"\"},\"type\":\"mesh3d\"}],\"parcoords\":[{\"line\":{\"colorbar\":{\"outlinewidth\":0,\"ticks\":\"\"}},\"type\":\"parcoords\"}],\"pie\":[{\"automargin\":true,\"type\":\"pie\"}],\"scatter\":[{\"marker\":{\"colorbar\":{\"outlinewidth\":0,\"ticks\":\"\"}},\"type\":\"scatter\"}],\"scatter3d\":[{\"line\":{\"colorbar\":{\"outlinewidth\":0,\"ticks\":\"\"}},\"marker\":{\"colorbar\":{\"outlinewidth\":0,\"ticks\":\"\"}},\"type\":\"scatter3d\"}],\"scattercarpet\":[{\"marker\":{\"colorbar\":{\"outlinewidth\":0,\"ticks\":\"\"}},\"type\":\"scattercarpet\"}],\"scattergeo\":[{\"marker\":{\"colorbar\":{\"outlinewidth\":0,\"ticks\":\"\"}},\"type\":\"scattergeo\"}],\"scattergl\":[{\"marker\":{\"colorbar\":{\"outlinewidth\":0,\"ticks\":\"\"}},\"type\":\"scattergl\"}],\"scattermapbox\":[{\"marker\":{\"colorbar\":{\"outlinewidth\":0,\"ticks\":\"\"}},\"type\":\"scattermapbox\"}],\"scatterpolar\":[{\"marker\":{\"colorbar\":{\"outlinewidth\":0,\"ticks\":\"\"}},\"type\":\"scatterpolar\"}],\"scatterpolargl\":[{\"marker\":{\"colorbar\":{\"outlinewidth\":0,\"ticks\":\"\"}},\"type\":\"scatterpolargl\"}],\"scatterternary\":[{\"marker\":{\"colorbar\":{\"outlinewidth\":0,\"ticks\":\"\"}},\"type\":\"scatterternary\"}],\"surface\":[{\"colorbar\":{\"outlinewidth\":0,\"ticks\":\"\"},\"colorscale\":[[0.0,\"#0d0887\"],[0.1111111111111111,\"#46039f\"],[0.2222222222222222,\"#7201a8\"],[0.3333333333333333,\"#9c179e\"],[0.4444444444444444,\"#bd3786\"],[0.5555555555555556,\"#d8576b\"],[0.6666666666666666,\"#ed7953\"],[0.7777777777777778,\"#fb9f3a\"],[0.8888888888888888,\"#fdca26\"],[1.0,\"#f0f921\"]],\"type\":\"surface\"}],\"table\":[{\"cells\":{\"fill\":{\"color\":\"#EBF0F8\"},\"line\":{\"color\":\"white\"}},\"header\":{\"fill\":{\"color\":\"#C8D4E3\"},\"line\":{\"color\":\"white\"}},\"type\":\"table\"}]},\"layout\":{\"annotationdefaults\":{\"arrowcolor\":\"#2a3f5f\",\"arrowhead\":0,\"arrowwidth\":1},\"autotypenumbers\":\"strict\",\"coloraxis\":{\"colorbar\":{\"outlinewidth\":0,\"ticks\":\"\"}},\"colorscale\":{\"diverging\":[[0,\"#8e0152\"],[0.1,\"#c51b7d\"],[0.2,\"#de77ae\"],[0.3,\"#f1b6da\"],[0.4,\"#fde0ef\"],[0.5,\"#f7f7f7\"],[0.6,\"#e6f5d0\"],[0.7,\"#b8e186\"],[0.8,\"#7fbc41\"],[0.9,\"#4d9221\"],[1,\"#276419\"]],\"sequential\":[[0.0,\"#0d0887\"],[0.1111111111111111,\"#46039f\"],[0.2222222222222222,\"#7201a8\"],[0.3333333333333333,\"#9c179e\"],[0.4444444444444444,\"#bd3786\"],[0.5555555555555556,\"#d8576b\"],[0.6666666666666666,\"#ed7953\"],[0.7777777777777778,\"#fb9f3a\"],[0.8888888888888888,\"#fdca26\"],[1.0,\"#f0f921\"]],\"sequentialminus\":[[0.0,\"#0d0887\"],[0.1111111111111111,\"#46039f\"],[0.2222222222222222,\"#7201a8\"],[0.3333333333333333,\"#9c179e\"],[0.4444444444444444,\"#bd3786\"],[0.5555555555555556,\"#d8576b\"],[0.6666666666666666,\"#ed7953\"],[0.7777777777777778,\"#fb9f3a\"],[0.8888888888888888,\"#fdca26\"],[1.0,\"#f0f921\"]]},\"colorway\":[\"#636efa\",\"#EF553B\",\"#00cc96\",\"#ab63fa\",\"#FFA15A\",\"#19d3f3\",\"#FF6692\",\"#B6E880\",\"#FF97FF\",\"#FECB52\"],\"font\":{\"color\":\"#2a3f5f\"},\"geo\":{\"bgcolor\":\"white\",\"lakecolor\":\"white\",\"landcolor\":\"#E5ECF6\",\"showlakes\":true,\"showland\":true,\"subunitcolor\":\"white\"},\"hoverlabel\":{\"align\":\"left\"},\"hovermode\":\"closest\",\"mapbox\":{\"style\":\"light\"},\"paper_bgcolor\":\"white\",\"plot_bgcolor\":\"#E5ECF6\",\"polar\":{\"angularaxis\":{\"gridcolor\":\"white\",\"linecolor\":\"white\",\"ticks\":\"\"},\"bgcolor\":\"#E5ECF6\",\"radialaxis\":{\"gridcolor\":\"white\",\"linecolor\":\"white\",\"ticks\":\"\"}},\"scene\":{\"xaxis\":{\"backgroundcolor\":\"#E5ECF6\",\"gridcolor\":\"white\",\"gridwidth\":2,\"linecolor\":\"white\",\"showbackground\":true,\"ticks\":\"\",\"zerolinecolor\":\"white\"},\"yaxis\":{\"backgroundcolor\":\"#E5ECF6\",\"gridcolor\":\"white\",\"gridwidth\":2,\"linecolor\":\"white\",\"showbackground\":true,\"ticks\":\"\",\"zerolinecolor\":\"white\"},\"zaxis\":{\"backgroundcolor\":\"#E5ECF6\",\"gridcolor\":\"white\",\"gridwidth\":2,\"linecolor\":\"white\",\"showbackground\":true,\"ticks\":\"\",\"zerolinecolor\":\"white\"}},\"shapedefaults\":{\"line\":{\"color\":\"#2a3f5f\"}},\"ternary\":{\"aaxis\":{\"gridcolor\":\"white\",\"linecolor\":\"white\",\"ticks\":\"\"},\"baxis\":{\"gridcolor\":\"white\",\"linecolor\":\"white\",\"ticks\":\"\"},\"bgcolor\":\"#E5ECF6\",\"caxis\":{\"gridcolor\":\"white\",\"linecolor\":\"white\",\"ticks\":\"\"}},\"title\":{\"x\":0.05},\"xaxis\":{\"automargin\":true,\"gridcolor\":\"white\",\"linecolor\":\"white\",\"ticks\":\"\",\"title\":{\"standoff\":15},\"zerolinecolor\":\"white\",\"zerolinewidth\":2},\"yaxis\":{\"automargin\":true,\"gridcolor\":\"white\",\"linecolor\":\"white\",\"ticks\":\"\",\"title\":{\"standoff\":15},\"zerolinecolor\":\"white\",\"zerolinewidth\":2}}},\"title\":{\"text\":\"Distribution Of The Predections Of African-American & Caucasian Defendants\",\"x\":0.5},\"width\":700,\"height\":500},                        {\"responsive\": true}                    ).then(function(){\n",
              "                            \n",
              "var gd = document.getElementById('1d04d743-0bec-4cf4-80b5-e9b7ce4c0883');\n",
              "var x = new MutationObserver(function (mutations, observer) {{\n",
              "        var display = window.getComputedStyle(gd).display;\n",
              "        if (!display || display === 'none') {{\n",
              "            console.log([gd, 'removed!']);\n",
              "            Plotly.purge(gd);\n",
              "            observer.disconnect();\n",
              "        }}\n",
              "}});\n",
              "\n",
              "// Listen for the removal of the full notebook cells\n",
              "var notebookContainer = gd.closest('#notebook-container');\n",
              "if (notebookContainer) {{\n",
              "    x.observe(notebookContainer, {childList: true});\n",
              "}}\n",
              "\n",
              "// Listen for the clearing of the current output cell\n",
              "var outputEl = gd.closest('.output');\n",
              "if (outputEl) {{\n",
              "    x.observe(outputEl, {childList: true});\n",
              "}}\n",
              "\n",
              "                        })                };                            </script>        </div>\n",
              "</body>\n",
              "</html>"
            ]
          },
          "metadata": {}
        }
      ]
    },
    {
      "cell_type": "markdown",
      "source": [
        "<h4>We can clearly see that there is a major difference between the two races"
      ],
      "metadata": {
        "id": "Km6YQ-trlcKc"
      }
    },
    {
      "cell_type": "markdown",
      "source": [
        "## **Equalized Odds pairty:** \n",
        "We saw that there is a clear bias in the datasets - Black defendants were more likely to be misclassified as higher risk compared to their white counterparts\n",
        "\n",
        "In order to acheive fairness we will try to acheive Equalized Odds pairty.\n",
        "\n",
        "**Reminder:** Equalized Odds pairty ensures parity between the subgroups of each race with label 1 in the training set, and parity between the subgroups of each race with label 0 in the training set. \n",
        "\n",
        "This means that the subgroups of each race who reoffended are equally likely to be predicted to reoffend. Similarly, there is parity between subgroups of each race without recidivism.\n",
        "\n",
        "In mathematical terms:\n",
        "\n",
        "\\begin{align}\n",
        "       TPR_{African-American}=TPR_{Caucasian}\n",
        "    \\end{align}\n",
        "\n",
        "<h4> <center> P[predicted  recidivism |african american, recidivism]=P[predicted  recidivism|Caucasian, recidivism] </center></h4>\n",
        "\n",
        "<h4> <center>and</center></h4>\n",
        "\n",
        "\\begin{align}\n",
        "       FPR_{African-American}=FPR_{Caucasian}\n",
        "    \\end{align}\n",
        "<h4> <center>P[predicted  recidivism|african american, no recidivism]=P[predicted  recidivism|Caucasian, no recidivism] </center></h4>\n",
        "\n",
        "\n",
        "**We can note that** TPR= 1- FNR ,thus minimizing the diffrence between the TPR in the two group will also minimize the diffrence between the FNR in the two group"
      ],
      "metadata": {
        "id": "fUGw05yq5bdh"
      }
    },
    {
      "cell_type": "code",
      "source": [
        "print_prob(train,pred='probability')"
      ],
      "metadata": {
        "colab": {
          "base_uri": "https://localhost:8080/"
        },
        "id": "Ocn8vEhnD9ZA",
        "outputId": "8ac08514-76cc-4407-83af-059d4d985286"
      },
      "execution_count": null,
      "outputs": [
        {
          "output_type": "stream",
          "name": "stdout",
          "text": [
            "P[recidivism predicted | african_american,recidivism]=0.7009622501850481\n",
            "P[recidivism predicted | caucasian, recidivism]=0.3934169278996865\n",
            "The diffrence:0.3075453222853616\n",
            "\n",
            "\n",
            "P[recidivism predicted | african_american,no recidivism]=0.3446280991735537\n",
            "P[recidivism predicted | caucasian, no recidivism]=0.1661721068249258\n",
            "The diffrence:0.17845599234862788\n"
          ]
        }
      ]
    },
    {
      "cell_type": "markdown",
      "source": [
        "<h3> We can clearly see that with the traditional model we can't acheive Equalized Odds pairty, so what can we do?\n"
      ],
      "metadata": {
        "id": "GMb5MQBZEY_B"
      }
    },
    {
      "cell_type": "markdown",
      "source": [
        "# **So what can we do?**"
      ],
      "metadata": {
        "id": "sZnX7ssYmuFZ"
      }
    },
    {
      "cell_type": "markdown",
      "source": [
        "## **Threshold-Moving:**"
      ],
      "metadata": {
        "id": "oJvSoyNZF51y"
      }
    },
    {
      "cell_type": "markdown",
      "source": [
        "Many machine learning algorithms are capable of predicting a probability or scoring of class membership. \n",
        "\n",
        "Those probabilities can be mapped to class label by using **decision threshold** where all values equal or greater than the threshold are mapped to one class and all other values are mapped to another class\n",
        "\n",
        "The default value for the threshold is 0.5.\n",
        "\n",
        "For those classification problems that have a severe class imbalance, the default threshold can result in poor performance.\n",
        "\n",
        "As such, a simple solution for reducing the disparities is using group-specific decision threshold that will minimize the differences of FNR and FPR between the two races, thus enabling to achieve Equalized Odds parity."
      ],
      "metadata": {
        "id": "rj9jmQbXokpG"
      }
    },
    {
      "cell_type": "code",
      "source": [
        "# We saw that the threshold of the logistic model was 0.5, we can change the threshold for the diffrent\n",
        "# group in a way that we will minimize the diffrence between the probabilities\n",
        "\n",
        "def find_best_threshold(df,pred='probability'):\n",
        "  best_diff=1\n",
        "  best_th_b=0\n",
        "  best_th_w=0\n",
        "  l=np.arange(0.3,0.7,0.01)\n",
        "  for th_b in l:\n",
        "    for th_w in l:\n",
        "      diff=0\n",
        "      for y_label in [0,1]:\n",
        "        black_r=compute_prob(df,'race_african_american',pred,y_label,th_b)\n",
        "        white_r=compute_prob(df,'race_caucasian',pred,y_label,th_w)\n",
        "        diff+=np.abs(black_r-white_r)\n",
        "  \n",
        "      if diff<best_diff:\n",
        "        best_diff=diff\n",
        "        best_th_b=th_b\n",
        "        best_th_w=th_w\n",
        "\n",
        "  print(\"Best difference achieved: {}\".format(best_diff))\n",
        "  print(\"African American best threshold achieved: {}\".format(best_th_b))\n",
        "  print(\"Caucasian  best threshold achieved: {}\".format(best_th_w))\n",
        "  return best_th_b,best_th_w\n"
      ],
      "metadata": {
        "id": "VQzzFuWDJKTP"
      },
      "execution_count": null,
      "outputs": []
    },
    {
      "cell_type": "code",
      "source": [
        "black_threshold,white_threshold=find_best_threshold(train)\n",
        "print(\"\\n\")\n",
        "print_prob(train,black_threshold,white_threshold)"
      ],
      "metadata": {
        "colab": {
          "base_uri": "https://localhost:8080/"
        },
        "id": "nuVwfifQJPBU",
        "outputId": "a208af15-aedf-471a-aca7-7b15435b9bfd"
      },
      "execution_count": null,
      "outputs": [
        {
          "output_type": "stream",
          "name": "stdout",
          "text": [
            "Best diffrence achived: 0.02237337593656602\n",
            "african_american best threshold achived: 0.6700000000000004\n",
            "caucasian best threshold achived: 0.5300000000000002\n",
            "\n",
            "\n",
            "P[recidivism predicted | african_american,recidivism]=0.3168023686158401\n",
            "P[recidivism predicted | caucasian, recidivism]=0.3103448275862069\n",
            "The diffrence:0.006457541029633196\n",
            "\n",
            "\n",
            "P[recidivism predicted | african_american,no recidivism]=0.09090909090909091\n",
            "P[recidivism predicted | caucasian, no recidivism]=0.10682492581602374\n",
            "The diffrence:0.015915834906932824\n"
          ]
        }
      ]
    },
    {
      "cell_type": "markdown",
      "source": [
        "<h3>We can see that, the difference between the probabilities in the train dataset are really small. </h3>\n",
        "\n",
        "<h3><b>Did we achived Equalized Odds pairty?</h3>"
      ],
      "metadata": {
        "id": "CFJoc3kEMuMV"
      }
    },
    {
      "cell_type": "markdown",
      "source": [
        "## **Validate the Result on the Test dataset:**\n",
        "In order to detrmine if the thershold we made are generic enough - not fitted only to the train dataset lets check if we would get small diffrences between the probabilities also in the test dataset."
      ],
      "metadata": {
        "id": "xUWjf0bULRUD"
      }
    },
    {
      "cell_type": "code",
      "source": [
        "# testing on the test set\n",
        "test['probability']=model.predict_proba(X_test)[:, 1]\n",
        "print_prob(test,black_threshold,white_threshold)"
      ],
      "metadata": {
        "colab": {
          "base_uri": "https://localhost:8080/"
        },
        "id": "EP8XOyjFKXoW",
        "outputId": "2948f7e4-ff2f-4eb6-e995-18d0546ddc14"
      },
      "execution_count": null,
      "outputs": [
        {
          "output_type": "stream",
          "name": "stdout",
          "text": [
            "P[recidivism predicted | african_american,recidivism]=0.3225806451612903\n",
            "P[recidivism predicted | caucasian, recidivism]=0.2826086956521739\n",
            "The diffrence:0.03997194950911642\n",
            "\n",
            "\n",
            "P[recidivism predicted | african_american,no recidivism]=0.11842105263157894\n",
            "P[recidivism predicted | caucasian, no recidivism]=0.1037037037037037\n",
            "The diffrence:0.01471734892787524\n"
          ]
        }
      ]
    },
    {
      "cell_type": "markdown",
      "source": [
        "We can see that, we indeed got small differences between the probabilities also in the test dataset (0.03 ,0.014) comparing to the original model (0.3, 0.18)"
      ],
      "metadata": {
        "id": "Z3MGNgPjOTvA"
      }
    },
    {
      "cell_type": "markdown",
      "source": [
        "Since the difference in both the train dataset and the test dataset are really small we can say that we have reached Equalized Odd parity."
      ],
      "metadata": {
        "id": "mPR0HO4CLhEu"
      }
    },
    {
      "cell_type": "markdown",
      "source": [
        "# **What about the accuracy?**\n",
        "Lets observe what will happend to the accuarcy after we applied different decision threshold for each sub group"
      ],
      "metadata": {
        "id": "PEKWibfktqE_"
      }
    },
    {
      "cell_type": "code",
      "source": [
        "def check_pred(row,black_th,white_th):\n",
        "  if row['race_african_american']==1 and row['probability']>=black_th:\n",
        "    return 1\n",
        "  elif row['race_african_american']==1 and row['probability']<black_th:\n",
        "    return 0\n",
        "  elif row['race_caucasian']==1 and row['probability']>=white_th:\n",
        "    return 1\n",
        "  else:\n",
        "    return 0"
      ],
      "metadata": {
        "id": "Ep5dP0LqpTH0"
      },
      "execution_count": null,
      "outputs": []
    },
    {
      "cell_type": "code",
      "source": [
        "def acc_table(df):\n",
        "  index=['old','new']\n",
        "  df['new_pred']=df.apply(lambda row: check_pred(row,black_threshold,white_threshold),axis=1)\n",
        "  df['old_pred']=df.apply(lambda row: check_pred(row,0.5,0.5),axis=1)\n",
        "  label=df['two_year_recid']\n",
        "  groups = [\"overall\", \"race_african_american\", \"race_caucasian\"]\n",
        "  acc_table = pd.DataFrame(index=index, columns=groups)\n",
        "  for group in groups:\n",
        "    if group in [\"race_african_american\", \"race_caucasian\"]:\n",
        "      subset=(df[group]==1)\n",
        "    else:\n",
        "      subset=np.full(label.shape, True)\n",
        "    acc_lst=[]\n",
        "    for idx in index:\n",
        "      if index=='old':\n",
        "        y_true=label[subset]\n",
        "        y_pred=df['old_pred']\n",
        "        y_sub_pred=y_pred[subset]\n",
        "      else:\n",
        "        y_true=label[subset]\n",
        "        y_pred=df['new_pred']\n",
        "        y_sub_pred=y_pred[subset]\n",
        "      acc_sub=accuracy_score(y_true, y_sub_pred)\n",
        "      acc_lst.append(acc_sub)\n",
        "    acc_table[group] = acc_lst\n",
        "  acc_table.columns=[\"overall\", \"African-American\", \"Caucasian\"]\n",
        "  return acc_table\n",
        "\n",
        "acc_table(test)"
      ],
      "metadata": {
        "colab": {
          "base_uri": "https://localhost:8080/",
          "height": 112
        },
        "id": "khRWtMk0m7E2",
        "outputId": "4256ac2b-aece-43a2-c714-301ba36b2f62"
      },
      "execution_count": null,
      "outputs": [
        {
          "output_type": "execute_result",
          "data": {
            "text/plain": [
              "      overall  African-American  Caucasian\n",
              "old  0.624291          0.599349   0.647577\n",
              "new  0.624291          0.599349   0.647577"
            ],
            "text/html": [
              "\n",
              "  <div id=\"df-f6294acd-4e7b-4075-9041-9ae1f7b01811\">\n",
              "    <div class=\"colab-df-container\">\n",
              "      <div>\n",
              "<style scoped>\n",
              "    .dataframe tbody tr th:only-of-type {\n",
              "        vertical-align: middle;\n",
              "    }\n",
              "\n",
              "    .dataframe tbody tr th {\n",
              "        vertical-align: top;\n",
              "    }\n",
              "\n",
              "    .dataframe thead th {\n",
              "        text-align: right;\n",
              "    }\n",
              "</style>\n",
              "<table border=\"1\" class=\"dataframe\">\n",
              "  <thead>\n",
              "    <tr style=\"text-align: right;\">\n",
              "      <th></th>\n",
              "      <th>overall</th>\n",
              "      <th>African-American</th>\n",
              "      <th>Caucasian</th>\n",
              "    </tr>\n",
              "  </thead>\n",
              "  <tbody>\n",
              "    <tr>\n",
              "      <th>old</th>\n",
              "      <td>0.624291</td>\n",
              "      <td>0.599349</td>\n",
              "      <td>0.647577</td>\n",
              "    </tr>\n",
              "    <tr>\n",
              "      <th>new</th>\n",
              "      <td>0.624291</td>\n",
              "      <td>0.599349</td>\n",
              "      <td>0.647577</td>\n",
              "    </tr>\n",
              "  </tbody>\n",
              "</table>\n",
              "</div>\n",
              "      <button class=\"colab-df-convert\" onclick=\"convertToInteractive('df-f6294acd-4e7b-4075-9041-9ae1f7b01811')\"\n",
              "              title=\"Convert this dataframe to an interactive table.\"\n",
              "              style=\"display:none;\">\n",
              "        \n",
              "  <svg xmlns=\"http://www.w3.org/2000/svg\" height=\"24px\"viewBox=\"0 0 24 24\"\n",
              "       width=\"24px\">\n",
              "    <path d=\"M0 0h24v24H0V0z\" fill=\"none\"/>\n",
              "    <path d=\"M18.56 5.44l.94 2.06.94-2.06 2.06-.94-2.06-.94-.94-2.06-.94 2.06-2.06.94zm-11 1L8.5 8.5l.94-2.06 2.06-.94-2.06-.94L8.5 2.5l-.94 2.06-2.06.94zm10 10l.94 2.06.94-2.06 2.06-.94-2.06-.94-.94-2.06-.94 2.06-2.06.94z\"/><path d=\"M17.41 7.96l-1.37-1.37c-.4-.4-.92-.59-1.43-.59-.52 0-1.04.2-1.43.59L10.3 9.45l-7.72 7.72c-.78.78-.78 2.05 0 2.83L4 21.41c.39.39.9.59 1.41.59.51 0 1.02-.2 1.41-.59l7.78-7.78 2.81-2.81c.8-.78.8-2.07 0-2.86zM5.41 20L4 18.59l7.72-7.72 1.47 1.35L5.41 20z\"/>\n",
              "  </svg>\n",
              "      </button>\n",
              "      \n",
              "  <style>\n",
              "    .colab-df-container {\n",
              "      display:flex;\n",
              "      flex-wrap:wrap;\n",
              "      gap: 12px;\n",
              "    }\n",
              "\n",
              "    .colab-df-convert {\n",
              "      background-color: #E8F0FE;\n",
              "      border: none;\n",
              "      border-radius: 50%;\n",
              "      cursor: pointer;\n",
              "      display: none;\n",
              "      fill: #1967D2;\n",
              "      height: 32px;\n",
              "      padding: 0 0 0 0;\n",
              "      width: 32px;\n",
              "    }\n",
              "\n",
              "    .colab-df-convert:hover {\n",
              "      background-color: #E2EBFA;\n",
              "      box-shadow: 0px 1px 2px rgba(60, 64, 67, 0.3), 0px 1px 3px 1px rgba(60, 64, 67, 0.15);\n",
              "      fill: #174EA6;\n",
              "    }\n",
              "\n",
              "    [theme=dark] .colab-df-convert {\n",
              "      background-color: #3B4455;\n",
              "      fill: #D2E3FC;\n",
              "    }\n",
              "\n",
              "    [theme=dark] .colab-df-convert:hover {\n",
              "      background-color: #434B5C;\n",
              "      box-shadow: 0px 1px 3px 1px rgba(0, 0, 0, 0.15);\n",
              "      filter: drop-shadow(0px 1px 2px rgba(0, 0, 0, 0.3));\n",
              "      fill: #FFFFFF;\n",
              "    }\n",
              "  </style>\n",
              "\n",
              "      <script>\n",
              "        const buttonEl =\n",
              "          document.querySelector('#df-f6294acd-4e7b-4075-9041-9ae1f7b01811 button.colab-df-convert');\n",
              "        buttonEl.style.display =\n",
              "          google.colab.kernel.accessAllowed ? 'block' : 'none';\n",
              "\n",
              "        async function convertToInteractive(key) {\n",
              "          const element = document.querySelector('#df-f6294acd-4e7b-4075-9041-9ae1f7b01811');\n",
              "          const dataTable =\n",
              "            await google.colab.kernel.invokeFunction('convertToInteractive',\n",
              "                                                     [key], {});\n",
              "          if (!dataTable) return;\n",
              "\n",
              "          const docLinkHtml = 'Like what you see? Visit the ' +\n",
              "            '<a target=\"_blank\" href=https://colab.research.google.com/notebooks/data_table.ipynb>data table notebook</a>'\n",
              "            + ' to learn more about interactive tables.';\n",
              "          element.innerHTML = '';\n",
              "          dataTable['output_type'] = 'display_data';\n",
              "          await google.colab.output.renderOutput(dataTable, element);\n",
              "          const docLink = document.createElement('div');\n",
              "          docLink.innerHTML = docLinkHtml;\n",
              "          element.appendChild(docLink);\n",
              "        }\n",
              "      </script>\n",
              "    </div>\n",
              "  </div>\n",
              "  "
            ]
          },
          "metadata": {},
          "execution_count": 11
        }
      ]
    },
    {
      "cell_type": "markdown",
      "source": [
        "What can we infer from those results?"
      ],
      "metadata": {
        "id": "j-diSGUDuGon"
      }
    }
  ]
}